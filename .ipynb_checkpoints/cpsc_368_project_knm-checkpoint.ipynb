{
 "cells": [
  {
   "cell_type": "markdown",
   "id": "25df23ca-bc6e-42f1-ade5-f4bc62ccfa56",
   "metadata": {},
   "source": [
    "# CPSC 368 Data Cleaning Notebook (KNM Neighbours)"
   ]
  },
  {
   "cell_type": "markdown",
   "id": "45af600a-ae58-4519-b602-3f16a4dc72b5",
   "metadata": {},
   "source": [
    "## Loading Data and Packages"
   ]
  },
  {
   "cell_type": "code",
   "execution_count": 1,
   "id": "09af940b-d257-4bff-afbd-a06163e2d85b",
   "metadata": {},
   "outputs": [],
   "source": [
    "import matplotlib.pyplot as plt\n",
    "import numpy as np\n",
    "import pandas as pd"
   ]
  },
  {
   "cell_type": "markdown",
   "id": "590f891a-fd50-48f2-9323-1b3364cff31c",
   "metadata": {},
   "source": [
    "## KFF Data Cleaning\n",
    "\n",
    "There are 3 KFF datasets: one for all adults aged 19-64, and two for males and females aged 19-64. Each dataset has a corresponding `Group` column applied to them before they are joined on `Location`. Since our focus is on uninsured adults exclusively, only the `Uninsured` column of values are acquired for each individual dataset, which are then grouped by location to create the columns `All_Uninsured`, `Female_Uninsured`, and `Male_Uninsured`, corresponding to the proportion of uninsured individuals in each category for each country."
   ]
  },
  {
   "cell_type": "code",
   "execution_count": 2,
   "id": "c1b653f2-2e1d-4e6e-8e78-d8a0a4684a2c",
   "metadata": {},
   "outputs": [],
   "source": [
    "KFF2019_adult_original = pd.read_csv('final_datasets_V1/KFF/kff_health_insurance_2019_adult.csv', skiprows = 2, nrows = 53)\n",
    "KFF2019_female_original = pd.read_csv('final_datasets_V1/KFF/kff_health_insurance_2019_female.csv', skiprows = 2, nrows = 53)\n",
    "KFF2019_male_original = pd.read_csv('final_datasets_V1/KFF/kff_health_insurance_2019_male.csv', skiprows = 2, nrows = 53)"
   ]
  },
  {
   "cell_type": "code",
   "execution_count": 3,
   "id": "9fd4d4b7-6636-417b-b837-c5c75c0a1488",
   "metadata": {},
   "outputs": [
    {
     "data": {
      "text/plain": [
       "(52, 4)"
      ]
     },
     "execution_count": 3,
     "metadata": {},
     "output_type": "execute_result"
    }
   ],
   "source": [
    "KFF2019_adult_original[\"Group\"] = \"All_Uninsured\"\n",
    "KFF2019_female_original[\"Group\"] = \"Female_Uninsured\"\n",
    "KFF2019_male_original[\"Group\"] = \"Male_Uninsured\"\n",
    "\n",
    "KFF2019 = pd.concat([KFF2019_female_original, KFF2019_male_original, KFF2019_adult_original], \n",
    "                    ignore_index=True)[[\"Location\", \"Group\", \"Uninsured\"]]\n",
    "\n",
    "\n",
    "KFF2019_new = KFF2019[KFF2019['Location'] != 'United States'].pivot(index='Location', columns='Group', values='Uninsured').fillna(0)\n",
    "KFF2019_new.index.name = 'Location'\n",
    "KFF2019_new.reset_index(inplace=True)\n",
    "KFF2019_new.rename(columns={'Group': 'Index'}, inplace=True)\n",
    "\n",
    "KFF2019_new.shape"
   ]
  },
  {
   "cell_type": "code",
   "execution_count": 4,
   "id": "59d76b72-c694-4b22-88c1-f64f9a759fa0",
   "metadata": {},
   "outputs": [
    {
     "data": {
      "text/html": [
       "<div>\n",
       "<style scoped>\n",
       "    .dataframe tbody tr th:only-of-type {\n",
       "        vertical-align: middle;\n",
       "    }\n",
       "\n",
       "    .dataframe tbody tr th {\n",
       "        vertical-align: top;\n",
       "    }\n",
       "\n",
       "    .dataframe thead th {\n",
       "        text-align: right;\n",
       "    }\n",
       "</style>\n",
       "<table border=\"1\" class=\"dataframe\">\n",
       "  <thead>\n",
       "    <tr style=\"text-align: right;\">\n",
       "      <th>Group</th>\n",
       "      <th>Location</th>\n",
       "      <th>All_Uninsured</th>\n",
       "      <th>Female_Uninsured</th>\n",
       "      <th>Male_Uninsured</th>\n",
       "    </tr>\n",
       "  </thead>\n",
       "  <tbody>\n",
       "    <tr>\n",
       "      <th>47</th>\n",
       "      <td>Virginia</td>\n",
       "      <td>0.112</td>\n",
       "      <td>0.094</td>\n",
       "      <td>0.131</td>\n",
       "    </tr>\n",
       "    <tr>\n",
       "      <th>48</th>\n",
       "      <td>Washington</td>\n",
       "      <td>0.094</td>\n",
       "      <td>0.082</td>\n",
       "      <td>0.106</td>\n",
       "    </tr>\n",
       "    <tr>\n",
       "      <th>49</th>\n",
       "      <td>West Virginia</td>\n",
       "      <td>0.099</td>\n",
       "      <td>0.080</td>\n",
       "      <td>0.117</td>\n",
       "    </tr>\n",
       "    <tr>\n",
       "      <th>50</th>\n",
       "      <td>Wisconsin</td>\n",
       "      <td>0.082</td>\n",
       "      <td>0.067</td>\n",
       "      <td>0.097</td>\n",
       "    </tr>\n",
       "    <tr>\n",
       "      <th>51</th>\n",
       "      <td>Wyoming</td>\n",
       "      <td>0.167</td>\n",
       "      <td>0.167</td>\n",
       "      <td>0.167</td>\n",
       "    </tr>\n",
       "  </tbody>\n",
       "</table>\n",
       "</div>"
      ],
      "text/plain": [
       "Group       Location  All_Uninsured  Female_Uninsured  Male_Uninsured\n",
       "47          Virginia          0.112             0.094           0.131\n",
       "48        Washington          0.094             0.082           0.106\n",
       "49     West Virginia          0.099             0.080           0.117\n",
       "50         Wisconsin          0.082             0.067           0.097\n",
       "51           Wyoming          0.167             0.167           0.167"
      ]
     },
     "execution_count": 4,
     "metadata": {},
     "output_type": "execute_result"
    }
   ],
   "source": [
    "KFF2019_new.to_csv(\"final_datasets_V1/cleaned/KFF2019_new.csv\", index=False)\n",
    "KFF2019_new.tail()"
   ]
  },
  {
   "cell_type": "markdown",
   "id": "88476f18-19df-42ca-a6a8-4d6484543e54",
   "metadata": {},
   "source": [
    "## U.S. Chronic Disease Indicators\n",
    "\n",
    "The U.S. Chronic Disease Indicators dataset contains many types of data for a variety of topics, and given our topic questions, we will create 2 datasets, one for coronary heart disease mortality, and another for the average of various cancer mortalities. The column `Has2019` is created to determine if the value is relevant to our questions, while `Range` is created to assist in providing the average data value `AvgDataValue` across the range of years, given that some values are obtained for a range greater than 1 year. "
   ]
  },
  {
   "cell_type": "code",
   "execution_count": 5,
   "id": "e68a1e22-9e50-4fff-8522-1f95167b64e5",
   "metadata": {},
   "outputs": [],
   "source": [
    "USCDI_original = pd.read_csv('final_datasets_V1/CDC/U.S._Chronic_Disease_Indicators.csv')"
   ]
  },
  {
   "cell_type": "code",
   "execution_count": null,
   "id": "e6224e62-3d29-4b3c-aa61-bb320598cadd",
   "metadata": {},
   "outputs": [],
   "source": [
    "USCDI = USCDI_original[[\"YearStart\",\"YearEnd\",\"LocationDesc\",\n",
    "                        \"Topic\",\"Question\",\"DataValueUnit\", \"DataValueType\", \"DataValue\",\n",
    "                        \"StratificationCategory1\", \"Stratification1\"]].copy().fillna(0)\n",
    "USCDI[\"Has2019\"] = ((USCDI[\"YearStart\"] <= 2019) & (USCDI[\"YearEnd\"] >= 2019))\n",
    "USCDI[\"Range\"] = (USCDI[\"YearEnd\"] - USCDI[\"YearStart\"] + 1)\n",
    "USCDI[\"AvgDataValue\"] = USCDI[\"DataValue\"]/USCDI[\"Range\"]\n",
    "USCDI.to_csv('final_datasets_V1/cleaned/U.S._Chronic_Disease_Indicators_newcols.csv', index=False)\n",
    "USCDI.head()"
   ]
  },
  {
   "cell_type": "markdown",
   "id": "6948dafc-88b1-461a-8c1d-22fa019ca6fb",
   "metadata": {},
   "source": [
    "### Coronary heart disease\n",
    "For the coronary heart disease mortality dataset, the U.S. Chronic Disease Indicators dataset is filtered for the corresponding cases, with the common unit being `USCDI[\"DataValueUnit\"] == 'cases per 100,000'` and with the stratification categories `Sex` and `Age`. Sex is used to estimate the proportion of each gender within each location. This is achieved by obtaining the sum of cases per 100,000 people for each location and gender, regardless of age, followed by calculating the proportion of female individuals present. Age is used to get the appropriate age group, with the closest achievable groups being the sum of cases per 100,000 people between `Age 0-44` and `Age 45-64`. Finally, the proportion of individuals that had coronary heart disease is calculated, along with the corresponding proportions for each gender, by dividing their values by 100000. The column `AvgDataValue` is renamed to `CHD_Deaths` to make future interpretation easier for users."
   ]
  },
  {
   "cell_type": "code",
   "execution_count": null,
   "id": "cba151ab",
   "metadata": {},
   "outputs": [],
   "source": [
    "condition_1_topic = USCDI[\"Topic\"] == \"Cardiovascular Disease\"\n",
    "condition_1_question = USCDI[\"Question\"] == \"Coronary heart disease mortality among all people, underlying cause\"\n",
    "condition_1_dvu = USCDI[\"DataValueUnit\"] == \"cases per 100,000\"\n",
    "condition_1_2019 = USCDI[\"Has2019\"] == True\n",
    "condition_1_sc1 = USCDI[\"StratificationCategory1\"].isin([\"Sex\", \"Age\"])\n",
    "\n",
    "USCDI_sex = USCDI[condition_1_topic \n",
    "    & condition_1_question\n",
    "    & condition_1_dvu\n",
    "    & condition_1_sc1\n",
    "    & condition_1_2019\n",
    "][[\"LocationDesc\", \"DataValueType\", \"AvgDataValue\", \"StratificationCategory1\", \"Stratification1\"]]\n",
    "USCDI_sex = USCDI_sex[USCDI_sex['LocationDesc'] != 'United States'] # Drop Rows where LocationDesc is equal to United States\n",
    "\n",
    "# USCDI_sex.rename(columns={'DataValue': 'CHDCasesPer100000'}, inplace=True)\n",
    "USCDI_sex"
   ]
  },
  {
   "cell_type": "code",
   "execution_count": null,
   "id": "800424c7-4b8d-40c0-9e45-4dd4499db6d1",
   "metadata": {},
   "outputs": [],
   "source": [
    "# Only sex-based values \n",
    "USCDI_sex_only = USCDI_sex[(USCDI_sex['StratificationCategory1'] == \"Sex\") & \n",
    "                           (USCDI_sex['DataValueType'] == \"Age-adjusted Rate\")]\n",
    "# Sum up by location and sex, then place male and female values into separate columns for each country\n",
    "USCDI_sex_groupsum = USCDI_sex_only.groupby(\n",
    "    ['LocationDesc', 'Stratification1'], as_index=False\n",
    ")['AvgDataValue'].sum()\n",
    "coronary_proportions = USCDI_sex_groupsum.pivot(index='LocationDesc', columns='Stratification1', values='AvgDataValue').fillna(0)\n",
    "display(coronary_proportions.head())\n",
    "\n",
    "coronary_proportions.index.name = 'LocationDesc'\n",
    "coronary_proportions.reset_index(inplace=True)\n",
    "\n",
    "# Calculate proportion of female in coronary heart disease population \n",
    "coronary_proportions['Frac_F'] = coronary_proportions['Female'] / (coronary_proportions['Female'] + coronary_proportions['Male'])\n",
    "coronary_proportions.head()"
   ]
  },
  {
   "cell_type": "code",
   "execution_count": null,
   "id": "c7381fac-f212-419e-8454-ce54eb397bf4",
   "metadata": {},
   "outputs": [],
   "source": [
    "# Only age-based values from 0-64, sum them up\n",
    "USCDI_age_only = USCDI_sex[\n",
    "    (USCDI_sex['StratificationCategory1'] == \"Age\") \n",
    "     & (USCDI_sex['Stratification1'].isin(['Age 0-44', 'Age 45-64'])) \n",
    "     & (USCDI[\"DataValueType\"] == \"Crude Rate\")\n",
    "]\n",
    "USCDI_age_sum = USCDI_age_only.groupby('LocationDesc', as_index=False)['AvgDataValue'].sum()\n",
    "display(USCDI_age_sum.head())\n",
    "\n",
    "# Merge CDI tables together on location \n",
    "USCDI_age_sex_prop = pd.merge(coronary_proportions, USCDI_age_sum, on='LocationDesc')\n",
    "\n",
    "# Create AvgDataValue split by gender\n",
    "USCDI_age_sex_prop.rename(columns={'AvgDataValue': 'CHD_Deaths'}, inplace=True)\n",
    "USCDI_age_sex_prop[\"CHD_Deaths_F\"] = USCDI_age_sex_prop[\"CHD_Deaths\"] * USCDI_age_sex_prop[\"Frac_F\"]\n",
    "USCDI_age_sex_prop[\"CHD_Deaths_M\"] = USCDI_age_sex_prop[\"CHD_Deaths\"] * (1 - USCDI_age_sex_prop[\"Frac_F\"])\n",
    "\n",
    "# Create CHDPercentage split by gender\n",
    "USCDI_age_sex_prop[\"CHDPercentage\"] = USCDI_age_sex_prop[\"CHD_Deaths\"]/100000\n",
    "USCDI_age_sex_prop[\"CHDPercentage_F\"] = USCDI_age_sex_prop[\"CHD_Deaths_F\"]/100000\n",
    "USCDI_age_sex_prop[\"CHDPercentage_M\"] = USCDI_age_sex_prop[\"CHD_Deaths_M\"]/100000\n",
    "\n",
    "USCDI_age_sex_prop.head()"
   ]
  },
  {
   "cell_type": "code",
   "execution_count": null,
   "id": "f56cc950-4b1b-4c52-ac2c-5bd9777e87b6",
   "metadata": {},
   "outputs": [],
   "source": [
    "USCDI_CHD = USCDI_age_sex_prop[[\"LocationDesc\", \"Frac_F\", \"CHD_Deaths\", \"CHD_Deaths_F\", \"CHD_Deaths_M\", \"CHDPercentage\", \"CHDPercentage_F\", \"CHDPercentage_M\"]]\n",
    "USCDI_CHD.to_csv(\"final_datasets_V1/cleaned/USCDI_CHD.csv\", index=False)"
   ]
  },
  {
   "cell_type": "markdown",
   "id": "28647763-b94d-4179-9a3a-9c9796251f84",
   "metadata": {},
   "source": [
    "### Cancer\n",
    "For the cancer dataset, the U.S. Chronic Disease Indicators dataset is filtered for the corresponding cases with data including 2019, with the common unit being `USCDI[\"DataValueUnit\"] == 'per 100,000'` and with the stratification category `Sex`, as the category `Age` is not provided. The columns `Female` and `Male` are renamed to `Cancer_Deaths_F` and `Cancer_Deaths_M` respectively, to make interpretation easier for future users. The proportions of individuals that acquired some form of cancer are then calculated by dividing the corresponding values by 100000."
   ]
  },
  {
   "cell_type": "code",
   "execution_count": null,
   "id": "aed58b72-99a1-4fd0-99ff-a3195deb4a36",
   "metadata": {},
   "outputs": [],
   "source": [
    "condition_3_topic = USCDI[\"Topic\"] == \"Cancer\"\n",
    "condition_3_dvu = USCDI[\"DataValueUnit\"] == \"per 100,000\"\n",
    "condition_3_dvt = USCDI[\"DataValueType\"] == \"Age-adjusted Rate\"\n",
    "condition_3_sc1 = USCDI[\"StratificationCategory1\"] == \"Sex\"\n",
    "condition_3_2019 = USCDI[\"Has2019\"] == True\n",
    "\n",
    "USCDI_disease = USCDI[\n",
    "    condition_3_topic  \n",
    "    & condition_3_dvu \n",
    "    & condition_3_dvt \n",
    "    & condition_3_sc1 \n",
    "    & condition_3_2019 \n",
    "    # & condition_3_ld\n",
    "][[\"LocationDesc\", \"AvgDataValue\", \"StratificationCategory1\", \"Stratification1\"]]\n",
    "USCDI_disease = USCDI_disease[USCDI_disease['LocationDesc'] != 'United States']\n",
    "\n",
    "USCDI_disease.head()"
   ]
  },
  {
   "cell_type": "code",
   "execution_count": null,
   "id": "da18468f-9c99-4de8-8016-f8d0bc9be7e9",
   "metadata": {},
   "outputs": [],
   "source": [
    "USCDI_cancer_sum = USCDI_disease.groupby(['LocationDesc', 'Stratification1'], as_index=False)['AvgDataValue'].sum()\n",
    "USCDI_cancer_pivot = USCDI_cancer_sum.pivot(index='LocationDesc', columns='Stratification1', values='AvgDataValue').fillna(0)\n",
    "USCDI_cancer_pivot.index.name = 'LocationDesc'\n",
    "USCDI_cancer_pivot.reset_index(inplace=True)\n",
    "\n",
    "# Rename columns\n",
    "USCDI_cancer_pivot.rename(columns={'Female': 'Cancer_Deaths_F'}, inplace=True)\n",
    "USCDI_cancer_pivot.rename(columns={'Male': 'Cancer_Deaths_M'}, inplace=True)\n",
    "USCDI_cancer_pivot['Cancer_Deaths'] = USCDI_cancer_pivot[\"Cancer_Deaths_F\"] + USCDI_cancer_pivot[\"Cancer_Deaths_M\"]\n",
    "\n",
    "# Calculate proportions\n",
    "USCDI_cancer_pivot['CancerPercentage_F'] = USCDI_cancer_pivot[\"Cancer_Deaths_F\"]/100000\n",
    "USCDI_cancer_pivot['CancerPercentage_M'] = USCDI_cancer_pivot[\"Cancer_Deaths_M\"]/100000\n",
    "USCDI_cancer_pivot['CancerPercentage'] = USCDI_cancer_pivot[\"Cancer_Deaths\"]/100000\n",
    "USCDI_cancer = USCDI_cancer_pivot[[\"LocationDesc\", \"Cancer_Deaths\", \"Cancer_Deaths_F\", \"Cancer_Deaths_M\", \"CancerPercentage\", \"CancerPercentage_F\", \"CancerPercentage_M\"]]\n",
    "USCDI_cancer.to_csv(\"final_datasets_V1/cleaned/USCDI_cancer.csv\", index=False)\n",
    "USCDI_cancer.head()"
   ]
  },
  {
   "cell_type": "code",
   "execution_count": null,
   "id": "86785e3c-4d15-4c13-beb9-a1ea524a8fab",
   "metadata": {},
   "outputs": [],
   "source": []
  }
 ],
 "metadata": {
  "kernelspec": {
   "display_name": "Python [conda env:anaconda3]",
   "language": "python",
   "name": "conda-env-anaconda3-py"
  },
  "language_info": {
   "codemirror_mode": {
    "name": "ipython",
    "version": 3
   },
   "file_extension": ".py",
   "mimetype": "text/x-python",
   "name": "python",
   "nbconvert_exporter": "python",
   "pygments_lexer": "ipython3",
   "version": "3.12.2"
  }
 },
 "nbformat": 4,
 "nbformat_minor": 5
}
