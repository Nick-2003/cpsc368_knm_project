{
 "cells": [
  {
   "cell_type": "markdown",
   "id": "055c40f6-1809-438e-8182-c0647c499761",
   "metadata": {},
   "source": [
    "# CPSC 368 Impact By Disease (KNM Neighbours)"
   ]
  },
  {
   "cell_type": "code",
   "execution_count": 1,
   "id": "b0942385-dc45-4fbe-94b0-9cfbe1d37eb2",
   "metadata": {},
   "outputs": [],
   "source": [
    "import pandas as pd\n",
    "import numpy as np\n",
    "import seaborn as sns\n",
    "import matplotlib.pyplot as plt"
   ]
  },
  {
   "cell_type": "code",
   "execution_count": 23,
   "id": "731b256d-fd81-458b-a40f-5bdfd66d0470",
   "metadata": {},
   "outputs": [],
   "source": [
    "USCDI = pd.read_csv('final_datasets_V1/cleaned/U.S._Chronic_Disease_Indicators_newcols.csv')\n",
    "KFF2019_new = pd.read_csv(\"final_datasets_V1/cleaned/KFF2019_new.csv\")"
   ]
  },
  {
   "cell_type": "code",
   "execution_count": 28,
   "id": "4ce1e198-e9df-4555-b71d-1b36ebb7ea0c",
   "metadata": {},
   "outputs": [
    {
     "data": {
      "text/html": [
       "<div>\n",
       "<style scoped>\n",
       "    .dataframe tbody tr th:only-of-type {\n",
       "        vertical-align: middle;\n",
       "    }\n",
       "\n",
       "    .dataframe tbody tr th {\n",
       "        vertical-align: top;\n",
       "    }\n",
       "\n",
       "    .dataframe thead th {\n",
       "        text-align: right;\n",
       "    }\n",
       "</style>\n",
       "<table border=\"1\" class=\"dataframe\">\n",
       "  <thead>\n",
       "    <tr style=\"text-align: right;\">\n",
       "      <th></th>\n",
       "      <th>YearStart</th>\n",
       "      <th>YearEnd</th>\n",
       "      <th>DataValue</th>\n",
       "      <th>Range</th>\n",
       "      <th>AvgDataValue</th>\n",
       "    </tr>\n",
       "  </thead>\n",
       "  <tbody>\n",
       "    <tr>\n",
       "      <th>count</th>\n",
       "      <td>309215.000000</td>\n",
       "      <td>309215.000000</td>\n",
       "      <td>3.092150e+05</td>\n",
       "      <td>309215.000000</td>\n",
       "      <td>3.092150e+05</td>\n",
       "    </tr>\n",
       "    <tr>\n",
       "      <th>mean</th>\n",
       "      <td>2020.012195</td>\n",
       "      <td>2020.288540</td>\n",
       "      <td>4.697595e+02</td>\n",
       "      <td>1.276345</td>\n",
       "      <td>3.904027e+02</td>\n",
       "    </tr>\n",
       "    <tr>\n",
       "      <th>std</th>\n",
       "      <td>1.530835</td>\n",
       "      <td>1.068591</td>\n",
       "      <td>1.333158e+04</td>\n",
       "      <td>0.938218</td>\n",
       "      <td>1.228443e+04</td>\n",
       "    </tr>\n",
       "    <tr>\n",
       "      <th>min</th>\n",
       "      <td>2015.000000</td>\n",
       "      <td>2019.000000</td>\n",
       "      <td>0.000000e+00</td>\n",
       "      <td>1.000000</td>\n",
       "      <td>0.000000e+00</td>\n",
       "    </tr>\n",
       "    <tr>\n",
       "      <th>25%</th>\n",
       "      <td>2019.000000</td>\n",
       "      <td>2019.000000</td>\n",
       "      <td>0.000000e+00</td>\n",
       "      <td>1.000000</td>\n",
       "      <td>0.000000e+00</td>\n",
       "    </tr>\n",
       "    <tr>\n",
       "      <th>50%</th>\n",
       "      <td>2020.000000</td>\n",
       "      <td>2020.000000</td>\n",
       "      <td>1.290000e+01</td>\n",
       "      <td>1.000000</td>\n",
       "      <td>1.140000e+01</td>\n",
       "    </tr>\n",
       "    <tr>\n",
       "      <th>75%</th>\n",
       "      <td>2021.000000</td>\n",
       "      <td>2021.000000</td>\n",
       "      <td>3.810000e+01</td>\n",
       "      <td>1.000000</td>\n",
       "      <td>3.560000e+01</td>\n",
       "    </tr>\n",
       "    <tr>\n",
       "      <th>max</th>\n",
       "      <td>2022.000000</td>\n",
       "      <td>2022.000000</td>\n",
       "      <td>2.925456e+06</td>\n",
       "      <td>5.000000</td>\n",
       "      <td>2.925456e+06</td>\n",
       "    </tr>\n",
       "  </tbody>\n",
       "</table>\n",
       "</div>"
      ],
      "text/plain": [
       "           YearStart        YearEnd     DataValue          Range  AvgDataValue\n",
       "count  309215.000000  309215.000000  3.092150e+05  309215.000000  3.092150e+05\n",
       "mean     2020.012195    2020.288540  4.697595e+02       1.276345  3.904027e+02\n",
       "std         1.530835       1.068591  1.333158e+04       0.938218  1.228443e+04\n",
       "min      2015.000000    2019.000000  0.000000e+00       1.000000  0.000000e+00\n",
       "25%      2019.000000    2019.000000  0.000000e+00       1.000000  0.000000e+00\n",
       "50%      2020.000000    2020.000000  1.290000e+01       1.000000  1.140000e+01\n",
       "75%      2021.000000    2021.000000  3.810000e+01       1.000000  3.560000e+01\n",
       "max      2022.000000    2022.000000  2.925456e+06       5.000000  2.925456e+06"
      ]
     },
     "execution_count": 28,
     "metadata": {},
     "output_type": "execute_result"
    }
   ],
   "source": [
    "USCDI.describe()"
   ]
  },
  {
   "cell_type": "code",
   "execution_count": 25,
   "id": "589fcbc2-0715-4ae5-a923-1eb75418d7d5",
   "metadata": {},
   "outputs": [],
   "source": [
    "USCDI['YearStart'] = pd.to_numeric(USCDI['YearStart'], errors='coerce')\n",
    "CHD = USCDI[\n",
    "    (USCDI['LocationDesc'].isin(['Texas', 'Massachusetts'])) &\n",
    "    (USCDI['Topic'].isin(['Cardiovascular Disease', 'Cancer'])) &\n",
    "    (USCDI['DataValueUnit'] == \"per 100,000\")&\n",
    "    (USCDI['DataValueType'] == \"Crude Rate\") &\n",
    "    (USCDI['YearStart'] == 2019)\n",
    "]"
   ]
  },
  {
   "cell_type": "code",
   "execution_count": 26,
   "id": "aa9f4ad3-29ef-42af-a867-166a360845d7",
   "metadata": {},
   "outputs": [
    {
     "data": {
      "text/html": [
       "<div>\n",
       "<style scoped>\n",
       "    .dataframe tbody tr th:only-of-type {\n",
       "        vertical-align: middle;\n",
       "    }\n",
       "\n",
       "    .dataframe tbody tr th {\n",
       "        vertical-align: top;\n",
       "    }\n",
       "\n",
       "    .dataframe thead th {\n",
       "        text-align: right;\n",
       "    }\n",
       "</style>\n",
       "<table border=\"1\" class=\"dataframe\">\n",
       "  <thead>\n",
       "    <tr style=\"text-align: right;\">\n",
       "      <th></th>\n",
       "      <th>YearStart</th>\n",
       "      <th>YearEnd</th>\n",
       "      <th>LocationDesc</th>\n",
       "      <th>Topic</th>\n",
       "      <th>Question</th>\n",
       "      <th>DataValueUnit</th>\n",
       "      <th>DataValueType</th>\n",
       "      <th>DataValue</th>\n",
       "      <th>StratificationCategory1</th>\n",
       "      <th>Stratification1</th>\n",
       "      <th>Has2019</th>\n",
       "      <th>Range</th>\n",
       "      <th>AvgDataValue</th>\n",
       "    </tr>\n",
       "  </thead>\n",
       "  <tbody>\n",
       "  </tbody>\n",
       "</table>\n",
       "</div>"
      ],
      "text/plain": [
       "Empty DataFrame\n",
       "Columns: [YearStart, YearEnd, LocationDesc, Topic, Question, DataValueUnit, DataValueType, DataValue, StratificationCategory1, Stratification1, Has2019, Range, AvgDataValue]\n",
       "Index: []"
      ]
     },
     "execution_count": 26,
     "metadata": {},
     "output_type": "execute_result"
    }
   ],
   "source": [
    "CHD"
   ]
  },
  {
   "cell_type": "code",
   "execution_count": 4,
   "id": "349676e9-7e99-4e32-b7bf-a2c8276ff252",
   "metadata": {},
   "outputs": [
    {
     "data": {
      "text/html": [
       "<div>\n",
       "<style scoped>\n",
       "    .dataframe tbody tr th:only-of-type {\n",
       "        vertical-align: middle;\n",
       "    }\n",
       "\n",
       "    .dataframe tbody tr th {\n",
       "        vertical-align: top;\n",
       "    }\n",
       "\n",
       "    .dataframe thead th {\n",
       "        text-align: right;\n",
       "    }\n",
       "</style>\n",
       "<table border=\"1\" class=\"dataframe\">\n",
       "  <thead>\n",
       "    <tr style=\"text-align: right;\">\n",
       "      <th></th>\n",
       "      <th>LocationDesc</th>\n",
       "      <th>Topic</th>\n",
       "      <th>DataValue</th>\n",
       "    </tr>\n",
       "  </thead>\n",
       "  <tbody>\n",
       "  </tbody>\n",
       "</table>\n",
       "</div>"
      ],
      "text/plain": [
       "Empty DataFrame\n",
       "Columns: [LocationDesc, Topic, DataValue]\n",
       "Index: []"
      ]
     },
     "execution_count": 4,
     "metadata": {},
     "output_type": "execute_result"
    }
   ],
   "source": [
    "CHD = CHD[['LocationDesc', 'Topic', 'DataValue']]\n",
    "CHD"
   ]
  }
 ],
 "metadata": {
  "kernelspec": {
   "display_name": "Python 3 (ipykernel)",
   "language": "python",
   "name": "python3"
  },
  "language_info": {
   "codemirror_mode": {
    "name": "ipython",
    "version": 3
   },
   "file_extension": ".py",
   "mimetype": "text/x-python",
   "name": "python",
   "nbconvert_exporter": "python",
   "pygments_lexer": "ipython3",
   "version": "3.12.2"
  }
 },
 "nbformat": 4,
 "nbformat_minor": 5
}
