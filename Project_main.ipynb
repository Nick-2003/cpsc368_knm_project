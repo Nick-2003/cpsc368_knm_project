{
 "cells": [
  {
   "cell_type": "code",
   "execution_count": 1,
   "id": "09af940b-d257-4bff-afbd-a06163e2d85b",
   "metadata": {},
   "outputs": [],
   "source": [
    "import otter\n",
    "import matplotlib.pyplot as plt\n",
    "import numpy as np\n",
    "import pandas as pd"
   ]
  },
  {
   "cell_type": "code",
   "execution_count": 6,
   "id": "c1b653f2-2e1d-4e6e-8e78-d8a0a4684a2c",
   "metadata": {},
   "outputs": [],
   "source": [
    "KFF2019_original = pd.read_csv('data/KFF_2019.csv')"
   ]
  },
  {
   "cell_type": "code",
   "execution_count": 9,
   "id": "9fd4d4b7-6636-417b-b837-c5c75c0a1488",
   "metadata": {},
   "outputs": [],
   "source": [
    "KFF2019 = KFF2019_original[[\"Location\",\"Uninsured\"]]\n",
    "# KFF2019"
   ]
  },
  {
   "cell_type": "code",
   "execution_count": 12,
   "id": "e68a1e22-9e50-4fff-8522-1f95167b64e5",
   "metadata": {},
   "outputs": [],
   "source": [
    "USCDI_original = pd.read_csv('data/U.S._Chronic_Disease_Indicators.csv')"
   ]
  },
  {
   "cell_type": "code",
   "execution_count": 15,
   "id": "e6224e62-3d29-4b3c-aa61-bb320598cadd",
   "metadata": {},
   "outputs": [],
   "source": [
    "USCDI = USCDI_original[[\"YearStart\",\"YearEnd\",\"LocationDesc\",\n",
    "                        \"Topic\",\"Question\",\"DataValueType\", \"DataValue\",\n",
    "                        \"StratificationCategory1\", \"Stratification1\"]]\n",
    "# USCDI"
   ]
  },
  {
   "cell_type": "markdown",
   "id": "6948dafc-88b1-461a-8c1d-22fa019ca6fb",
   "metadata": {},
   "source": [
    "### Impact by Sex "
   ]
  },
  {
   "cell_type": "markdown",
   "id": "69aa9cf7-28cc-446d-88fc-1ed763e6215e",
   "metadata": {},
   "source": [
    "### Impact by State\n"
   ]
  },
  {
   "cell_type": "markdown",
   "id": "28647763-b94d-4179-9a3a-9c9796251f84",
   "metadata": {},
   "source": [
    "### Impact by Disease"
   ]
  }
 ],
 "metadata": {
  "kernelspec": {
   "display_name": "Python 3 (ipykernel)",
   "language": "python",
   "name": "python3"
  },
  "language_info": {
   "codemirror_mode": {
    "name": "ipython",
    "version": 3
   },
   "file_extension": ".py",
   "mimetype": "text/x-python",
   "name": "python",
   "nbconvert_exporter": "python",
   "pygments_lexer": "ipython3",
   "version": "3.12.2"
  }
 },
 "nbformat": 4,
 "nbformat_minor": 5
}
