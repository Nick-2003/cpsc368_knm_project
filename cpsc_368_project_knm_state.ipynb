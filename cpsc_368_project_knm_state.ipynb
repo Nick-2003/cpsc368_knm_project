{
 "cells": [
  {
   "cell_type": "markdown",
   "id": "25df23ca-bc6e-42f1-ade5-f4bc62ccfa56",
   "metadata": {},
   "source": [
    "# CPSC 368 Impact By State (KNM Neighbours)"
   ]
  },
  {
   "cell_type": "markdown",
   "id": "45af600a-ae58-4519-b602-3f16a4dc72b5",
   "metadata": {},
   "source": [
    "## Loading Data and Packages"
   ]
  },
  {
   "cell_type": "code",
   "execution_count": 15,
   "id": "09af940b-d257-4bff-afbd-a06163e2d85b",
   "metadata": {},
   "outputs": [],
   "source": [
    "import matplotlib.pyplot as plt\n",
    "import numpy as np\n",
    "import pandas as pd\n",
    "\n",
    "# Impact by State import statements\n",
    "import seaborn as sns\n",
    "from sklearn.model_selection import train_test_split, GridSearchCV\n",
    "from sklearn.preprocessing import StandardScaler, OneHotEncoder, MinMaxScaler\n",
    "from sklearn.svm import SVR\n",
    "from sklearn.metrics import mean_squared_error, r2_score\n",
    "from sklearn.compose import ColumnTransformer\n",
    "from sklearn.impute import SimpleImputer\n",
    "from sklearn.pipeline import make_pipeline, Pipeline\n",
    "from sklearn.compose import TransformedTargetRegressor\n",
    "from sklearn.linear_model import LinearRegression"
   ]
  },
  {
   "cell_type": "markdown",
   "id": "69aa9cf7-28cc-446d-88fc-1ed763e6215e",
   "metadata": {},
   "source": [
    "### Impact by State"
   ]
  },
  {
   "cell_type": "code",
   "execution_count": 2,
   "id": "d709b185-85e9-42b6-a444-384fdbbcdfa9",
   "metadata": {},
   "outputs": [],
   "source": [
    "USCDI = pd.read_csv('final_datasets_V1/cleaned/U.S._Chronic_Disease_Indicators_newcols.csv')\n",
    "KFF2019_new = pd.read_csv(\"final_datasets_V1/cleaned/KFF2019_new.csv\")"
   ]
  },
  {
   "cell_type": "code",
   "execution_count": 3,
   "id": "c9178be4",
   "metadata": {},
   "outputs": [],
   "source": [
    "condition_2_t = USCDI[\"Topic\"] == \"Cardiovascular Disease\"\n",
    "condition_2_q = USCDI[\"Question\"] == \"Coronary heart disease mortality among all people, underlying cause\"\n",
    "condition_2_dvu = USCDI[\"DataValueUnit\"] == \"cases per 100,000\"\n",
    "condition_2_sc1 = USCDI[\"StratificationCategory1\"] == \"Age\"\n",
    "condition_2_s1 = USCDI['Stratification1'].isin(['Age 0-44', 'Age 45-64'])\n",
    "condition_2_dvt = USCDI[\"DataValueType\"] == \"Crude Rate\"\n",
    "# condition_2_syear = USCDI[\"YearStart\"] == 2019\n",
    "# condition_2_eyear = USCDI[\"YearEnd\"] == 2019\n",
    "condition_2_2019 = USCDI[\"Has2019\"] == True\n",
    "\n",
    "USCDI_state = USCDI[condition_2_t & condition_2_q & condition_2_dvu & condition_2_sc1 & condition_2_dvt & condition_2_2019]\n",
    "USCDI_state = USCDI_state[USCDI_state['LocationDesc'] != 'United States'] # Drop Rows where LocationDesc is equal to United States\n",
    "\n",
    "state_df = pd.merge(USCDI_state, KFF2019_new[['Location', 'All_Uninsured']], \n",
    "                     left_on='LocationDesc', right_on='Location', how='left')\n",
    "state_df.drop(columns='Location', inplace=True)\n",
    "state_df.rename(columns={'AvgDataValue': 'AvgDeathRate'}, inplace=True) #Rename DataValue Column to AvgDeathRate for better interpretability\n",
    "state_df.rename(columns={'DataValueType': 'DeathRateType'}, inplace=True) #Rename DataValueType Column to DeathRateType for better interpretability\n",
    "state_df.rename(columns={'DataValueUnit': 'DeathRateUnit'}, inplace=True) #Rename DataValueUnit Column to DeathRateUnit for better interpretability\n",
    "state_df = state_df[[\"LocationDesc\", \"DeathRateUnit\", \"DeathRateType\", \"AvgDeathRate\", \"Stratification1\", \"All_Uninsured\"]]\n",
    "\n",
    "state_df.to_csv(\"final_datasets_V1/cleaned/state_df.csv\", index=False)"
   ]
  },
  {
   "cell_type": "code",
   "execution_count": 4,
   "id": "2356c94f-f136-4e33-ad65-0a24dda27407",
   "metadata": {},
   "outputs": [
    {
     "data": {
      "text/html": [
       "<div>\n",
       "<style scoped>\n",
       "    .dataframe tbody tr th:only-of-type {\n",
       "        vertical-align: middle;\n",
       "    }\n",
       "\n",
       "    .dataframe tbody tr th {\n",
       "        vertical-align: top;\n",
       "    }\n",
       "\n",
       "    .dataframe thead th {\n",
       "        text-align: right;\n",
       "    }\n",
       "</style>\n",
       "<table border=\"1\" class=\"dataframe\">\n",
       "  <thead>\n",
       "    <tr style=\"text-align: right;\">\n",
       "      <th></th>\n",
       "      <th>LocationDesc</th>\n",
       "      <th>DeathRateUnit</th>\n",
       "      <th>DeathRateType</th>\n",
       "      <th>AvgDeathRate</th>\n",
       "      <th>Stratification1</th>\n",
       "      <th>All_Uninsured</th>\n",
       "    </tr>\n",
       "  </thead>\n",
       "  <tbody>\n",
       "    <tr>\n",
       "      <th>0</th>\n",
       "      <td>California</td>\n",
       "      <td>cases per 100,000</td>\n",
       "      <td>Crude Rate</td>\n",
       "      <td>1.9</td>\n",
       "      <td>Age 0-44</td>\n",
       "      <td>0.110</td>\n",
       "    </tr>\n",
       "    <tr>\n",
       "      <th>1</th>\n",
       "      <td>Alaska</td>\n",
       "      <td>cases per 100,000</td>\n",
       "      <td>Crude Rate</td>\n",
       "      <td>307.9</td>\n",
       "      <td>Age &gt;=65</td>\n",
       "      <td>0.153</td>\n",
       "    </tr>\n",
       "    <tr>\n",
       "      <th>2</th>\n",
       "      <td>Alabama</td>\n",
       "      <td>cases per 100,000</td>\n",
       "      <td>Crude Rate</td>\n",
       "      <td>434.6</td>\n",
       "      <td>Age &gt;=65</td>\n",
       "      <td>0.149</td>\n",
       "    </tr>\n",
       "    <tr>\n",
       "      <th>3</th>\n",
       "      <td>Alaska</td>\n",
       "      <td>cases per 100,000</td>\n",
       "      <td>Crude Rate</td>\n",
       "      <td>72.3</td>\n",
       "      <td>Age 45-64</td>\n",
       "      <td>0.153</td>\n",
       "    </tr>\n",
       "    <tr>\n",
       "      <th>4</th>\n",
       "      <td>Arizona</td>\n",
       "      <td>cases per 100,000</td>\n",
       "      <td>Crude Rate</td>\n",
       "      <td>68.1</td>\n",
       "      <td>Age 45-64</td>\n",
       "      <td>0.154</td>\n",
       "    </tr>\n",
       "  </tbody>\n",
       "</table>\n",
       "</div>"
      ],
      "text/plain": [
       "  LocationDesc      DeathRateUnit DeathRateType  AvgDeathRate Stratification1  \\\n",
       "0   California  cases per 100,000    Crude Rate           1.9        Age 0-44   \n",
       "1       Alaska  cases per 100,000    Crude Rate         307.9        Age >=65   \n",
       "2      Alabama  cases per 100,000    Crude Rate         434.6        Age >=65   \n",
       "3       Alaska  cases per 100,000    Crude Rate          72.3       Age 45-64   \n",
       "4      Arizona  cases per 100,000    Crude Rate          68.1       Age 45-64   \n",
       "\n",
       "   All_Uninsured  \n",
       "0          0.110  \n",
       "1          0.153  \n",
       "2          0.149  \n",
       "3          0.153  \n",
       "4          0.154  "
      ]
     },
     "metadata": {},
     "output_type": "display_data"
    }
   ],
   "source": [
    "state_df_0_44 = state_df[state_df['Stratification1'] == 'Age 0-44']\n",
    "state_df_45_64 = state_df[state_df['Stratification1'] == 'Age 45-64']\n",
    "state_df_65 = state_df[state_df['Stratification1'] == 'Age >=65']\n",
    "\n",
    "display(state_df.head())"
   ]
  },
  {
   "cell_type": "markdown",
   "id": "13da92ee-1589-49e4-86c8-e10de9e4c842",
   "metadata": {},
   "source": [
    "Since the `state_df` contains overlapping rows with the same values for certain columns, I’ve decided to further split the data based on age stratification. This will ensure that each state has a unique uninsured rate and death rate for each age group, helping to eliminate redundancy and providing more precise and meaningful insights for the analysis."
   ]
  },
  {
   "cell_type": "code",
   "execution_count": 5,
   "id": "7e0ceab0-7184-4966-8b14-ae0b3ac52643",
   "metadata": {},
   "outputs": [
    {
     "data": {
      "text/plain": [
       "LocationDesc       0\n",
       "DeathRateUnit      0\n",
       "DeathRateType      0\n",
       "AvgDeathRate       0\n",
       "Stratification1    0\n",
       "All_Uninsured      0\n",
       "dtype: int64"
      ]
     },
     "execution_count": 5,
     "metadata": {},
     "output_type": "execute_result"
    }
   ],
   "source": [
    "state_df.isnull().sum()"
   ]
  },
  {
   "cell_type": "markdown",
   "id": "7c6e355f-d5d4-4e31-95db-971a5e4fd03f",
   "metadata": {},
   "source": [
    "The target column, AvgDeathRate, is the only column with missing values. To handle this, we will impute the missing values using the median, as it is less sensitive to extreme outliers and better preserves the distribution of the data. Since we cannot guarantee that the data is normally distributed, the median is a stronger choice compared to the mean for filling in missing values. This approach ensures that the imputation is not influenced by outliers or skewed distributions, which could distort the data and lead to inaccurate results."
   ]
  },
  {
   "cell_type": "code",
   "execution_count": 6,
   "id": "ad8fbe7f-b042-432f-9328-f19a23731f49",
   "metadata": {},
   "outputs": [
    {
     "data": {
      "image/png": "[encoded data removed]",
      "text/plain": [
       "<Figure size 640x480 with 1 Axes>"
      ]
     },
     "metadata": {},
     "output_type": "display_data"
    }
   ],
   "source": [
    "sns.regplot(data=state_df_0_44, x='All_Uninsured', y='AvgDeathRate', scatter=True, lowess=True)\n",
    "plt.title('Uninsured Rate vs Death Rate Age: 0-44')\n",
    "plt.show()"
   ]
  },
  {
   "cell_type": "code",
   "execution_count": 7,
   "id": "2b03f455-578b-478b-bfda-6dc6a2d726b4",
   "metadata": {},
   "outputs": [
    {
     "data": {
      "image/png": "[encoded data removed]",
      "text/plain": [
       "<Figure size 640x480 with 1 Axes>"
      ]
     },
     "metadata": {},
     "output_type": "display_data"
    }
   ],
   "source": [
    "sns.regplot(data=state_df_45_64, x='All_Uninsured', y='AvgDeathRate', scatter=True, lowess=True)\n",
    "plt.title('Uninsured Rate vs Death Rate Age: 44-64')\n",
    "plt.show()"
   ]
  },
  {
   "cell_type": "code",
   "execution_count": 8,
   "id": "b2ddb5a5-ff7b-4de9-ae45-9d2d9777f4cc",
   "metadata": {},
   "outputs": [
    {
     "data": {
      "image/png": "[encoded data removed]",
      "text/plain": [
       "<Figure size 640x480 with 1 Axes>"
      ]
     },
     "metadata": {},
     "output_type": "display_data"
    }
   ],
   "source": [
    "sns.regplot(data=state_df_65, x='All_Uninsured', y='AvgDeathRate', scatter=True, lowess=True)\n",
    "plt.title('Uninsured Rate vs Death Rate Age: 65+')\n",
    "plt.show()"
   ]
  },
  {
   "cell_type": "markdown",
   "id": "33ded7b9-8e2a-46d0-835d-36708aedb0fb",
   "metadata": {},
   "source": [
    "These regression plots show the scatter plot of individual data points along with the best-fit line from the regression. Since the scatter plot lacks a clear trend and the best-fit line has a shallow slope, it suggests that the features have limited predictive power for Death Rate. However, we'll explore how a more complex model, like SVR, performs."
   ]
  },
  {
   "cell_type": "markdown",
   "id": "69054ab0-1901-4b9f-8e6a-df9f1a153713",
   "metadata": {},
   "source": [
    "#### Splitting the Data\n",
    "To begin, we separate the features from the target variable. Then we'll split the dataset into training and test sets using an 80/20 split. Next, we divide the dataset into training and test sets. Additionally, we apply a log transformation to the target variable to reduce skewness and reduce the impact of outliers, with `np.log1p()` specifically to handle cases where `state_df_0_44[\"All_Uninsured\"] == 0`. This transformation not only improves the model's fit but also enhances interpretability by stabilizing variance and making the relationships between variables more linear."
   ]
  },
  {
   "cell_type": "code",
   "execution_count": 9,
   "id": "55e5a191-844a-4a0f-8941-bc667fdb9dfb",
   "metadata": {},
   "outputs": [],
   "source": [
    "State_X_0_44 = state_df_0_44[['All_Uninsured', 'LocationDesc']]\n",
    "State_y_0_44 = np.log1p(state_df_0_44['AvgDeathRate'])\n",
    "\n",
    "X_train_0_44, X_test_0_44, y_train_0_44, y_test_0_44 = train_test_split(State_X_0_44, State_y_0_44, test_size=0.2, random_state=42)"
   ]
  },
  {
   "cell_type": "markdown",
   "id": "413db653-afb7-4411-a82d-233ad1b5eaad",
   "metadata": {},
   "source": [
    "#### Preprocessing and Pipeline\n",
    "To address the missing values in the AvgDeathRate column, we will impute the null entries with the median value. Following that, we'll use a column transformer to scale the numerical features and apply One-Hot Encoding to the location column, ensuring that the influence of each state is captured. We will then assemble these steps into a pipeline, making the process repeatable for other datasets. "
   ]
  },
  {
   "cell_type": "code",
   "execution_count": 10,
   "id": "fd27ec0d-1bdb-4341-bcc0-7a9bad714477",
   "metadata": {},
   "outputs": [],
   "source": [
    "y_train_imputed_0_44 = y_train_0_44.fillna(y_train_0_44.median())\n",
    "y_test_imputed_0_44 = y_test_0_44.fillna(y_test_0_44.median())\n",
    "\n",
    "preprocessor = ColumnTransformer(\n",
    "    transformers=[\n",
    "        ('num', make_pipeline(\n",
    "            MinMaxScaler()\n",
    "        ), ['All_Uninsured']),\n",
    "        ('cat', make_pipeline(\n",
    "            OneHotEncoder(handle_unknown='ignore')\n",
    "        ), ['LocationDesc'])\n",
    "    ]\n",
    ")\n",
    "\n",
    "pipe = make_pipeline(\n",
    "    preprocessor,\n",
    "    SVR()\n",
    ")\n",
    "\n",
    "ttr = TransformedTargetRegressor(\n",
    "    regressor=pipe,\n",
    "    transformer=StandardScaler()\n",
    ")"
   ]
  },
  {
   "cell_type": "markdown",
   "id": "9acf885f-1c31-4abc-89fe-36fcdca1524a",
   "metadata": {},
   "source": [
    "#### Hyperparameter Optimization\n",
    "We will now perform hyperparameter optimization to identify the best set of parameters for achieving optimal model performance."
   ]
  },
  {
   "cell_type": "code",
   "execution_count": 11,
   "id": "fddb556e-871b-4f97-ba96-016941d49f2c",
   "metadata": {},
   "outputs": [
    {
     "name": "stdout",
     "output_type": "stream",
     "text": [
      "TransformedTargetRegressor(regressor=Pipeline(steps=[('columntransformer',\n",
      "                                                      ColumnTransformer(transformers=[('num',\n",
      "                                                                                       Pipeline(steps=[('minmaxscaler',\n",
      "                                                                                                        MinMaxScaler())]),\n",
      "                                                                                       ['All_Uninsured']),\n",
      "                                                                                      ('cat',\n",
      "                                                                                       Pipeline(steps=[('onehotencoder',\n",
      "                                                                                                        OneHotEncoder(handle_unknown='ignore'))]),\n",
      "                                                                                       ['LocationDesc'])])),\n",
      "                                                     ('svr',\n",
      "                                                      SVR(C=100, epsilon=0.01,\n",
      "                                                          gamma=0.01))]),\n",
      "                           transformer=StandardScaler())\n"
     ]
    }
   ],
   "source": [
    "param_grid = {\n",
    "    'regressor__svr__C': [0.0001, 0.001, 0.01, 0.1, 1, 10, 100, 1000],\n",
    "    'regressor__svr__epsilon': [0.01, 0.1, 0.2, 0.5, 0.08, 1.6, 2.4, 3.2],\n",
    "    'regressor__svr__gamma': ['scale', 'auto', 0.01, 0.1, 1, 10, 100],\n",
    "    'regressor__svr__kernel': ['linear', 'rbf', 'poly']\n",
    "}\n",
    "\n",
    "grid_search_0_44 = GridSearchCV(ttr, param_grid, cv=5, scoring='neg_mean_squared_error', n_jobs=-1)\n",
    "grid_search_0_44.fit(X_train_0_44, y_train_imputed_0_44)\n",
    "\n",
    "print(grid_search_0_44.best_estimator_)"
   ]
  },
  {
   "cell_type": "markdown",
   "id": "8186560f-a05b-4487-bcaf-8941931d8c80",
   "metadata": {},
   "source": [
    "#### Remodel with Best Hyperparameters\n",
    "Having identified the best hyperparameters, we will now retrain the SVR model using these values to achieve optimal performance. We will assess the model using RMSE to assess it's accuracy"
   ]
  },
  {
   "cell_type": "code",
   "execution_count": 12,
   "id": "7f9590df-a149-47b6-8250-a555d54cad7b",
   "metadata": {},
   "outputs": [
    {
     "name": "stdout",
     "output_type": "stream",
     "text": [
      "Best Parameters: {'regressor__svr__C': 100, 'regressor__svr__epsilon': 0.01, 'regressor__svr__gamma': 0.01, 'regressor__svr__kernel': 'rbf'}\n",
      "Test RMSE: 0.48\n"
     ]
    }
   ],
   "source": [
    "y_pred_0_44 = grid_search_0_44.best_estimator_.predict(X_test_0_44)\n",
    "\n",
    "rmse_0_44 = np.sqrt(mean_squared_error(y_test_imputed_0_44, y_pred_0_44))\n",
    "\n",
    "print(f\"Best Parameters: {grid_search_0_44.best_params_}\")\n",
    "print(f\"Test RMSE: {rmse_0_44:.2f}\")"
   ]
  },
  {
   "cell_type": "markdown",
   "id": "bee86c18-a7f8-48ca-a2a8-eac0cdf73587",
   "metadata": {},
   "source": [
    "#### AvgDeathRate by States Age: 44-64\n",
    "Now we'll repeat the steps with the other age stratifications"
   ]
  },
  {
   "cell_type": "code",
   "execution_count": 13,
   "id": "7d5e16d2-2f99-4a4d-9c08-9dafed302034",
   "metadata": {},
   "outputs": [
    {
     "name": "stdout",
     "output_type": "stream",
     "text": [
      "Best Parameters: {'regressor__svr__C': 10, 'regressor__svr__epsilon': 0.5, 'regressor__svr__gamma': 1, 'regressor__svr__kernel': 'poly'}\n",
      "Test RMSE: 0.41\n"
     ]
    }
   ],
   "source": [
    "State_X_45_64 = state_df_45_64[['All_Uninsured', 'LocationDesc']]\n",
    "State_y_45_64 = np.log1p(state_df_45_64['AvgDeathRate'])\n",
    "\n",
    "X_train_45_64, X_test_45_64, y_train_45_64, y_test_45_64 = train_test_split(State_X_45_64, State_y_45_64, test_size=0.2, random_state=42)\n",
    "\n",
    "y_train_imputed_45_64 = y_train_45_64.fillna(y_train_45_64.median())\n",
    "y_test_imputed_45_64 = y_test_45_64.fillna(y_test_45_64.median())\n",
    "\n",
    "grid_search_45_64 = GridSearchCV(ttr, param_grid, cv=5, scoring='neg_mean_squared_error', n_jobs=-1)\n",
    "grid_search_45_64.fit(X_train_45_64, y_train_imputed_45_64)\n",
    "\n",
    "y_pred_45_64 = grid_search_45_64.best_estimator_.predict(X_test_45_64)\n",
    "\n",
    "rmse_45_64 = np.sqrt(mean_squared_error(y_test_imputed_45_64, y_pred_45_64))\n",
    "\n",
    "print(f\"Best Parameters: {grid_search_45_64.best_params_}\")\n",
    "print(f\"Test RMSE: {rmse_45_64:.2f}\")\n"
   ]
  },
  {
   "cell_type": "markdown",
   "id": "1daa7ee3-817f-4218-bef4-9256aa49fd0a",
   "metadata": {},
   "source": [
    "#### AvgDeathRate by States Age: 65+"
   ]
  },
  {
   "cell_type": "code",
   "execution_count": 14,
   "id": "044cca3f-f343-49fe-a645-0cbe1ed91be6",
   "metadata": {},
   "outputs": [
    {
     "name": "stdout",
     "output_type": "stream",
     "text": [
      "Best Parameters: {'regressor__svr__C': 1, 'regressor__svr__epsilon': 1.6, 'regressor__svr__gamma': 100, 'regressor__svr__kernel': 'rbf'}\n",
      "Test RMSE: 0.19\n"
     ]
    }
   ],
   "source": [
    "State_X_65 = state_df_65[['All_Uninsured', 'LocationDesc']]\n",
    "State_y_65 = np.log1p(state_df_65['AvgDeathRate'])\n",
    "\n",
    "X_train_65, X_test_65, y_train_65, y_test_65 = train_test_split(State_X_65, State_y_65, test_size=0.2, random_state=42)\n",
    "\n",
    "y_train_imputed_65 = y_train_65.fillna(y_train_65.median())\n",
    "y_test_imputed_65 = y_test_65.fillna(y_test_65.median())\n",
    "\n",
    "grid_search_65 = GridSearchCV(ttr, param_grid, cv=5, scoring='neg_mean_squared_error', n_jobs=-1)\n",
    "grid_search_65.fit(X_train_65, y_train_imputed_65)\n",
    "\n",
    "y_pred_65 = grid_search_65.best_estimator_.predict(X_test_65)\n",
    "\n",
    "rmse_65 = np.sqrt(mean_squared_error(y_test_imputed_65, y_pred_65))\n",
    "\n",
    "print(f\"Best Parameters: {grid_search_65.best_params_}\")\n",
    "print(f\"Test RMSE: {rmse_65:.2f}\")"
   ]
  },
  {
   "cell_type": "markdown",
   "id": "fca93b9a-16bd-4d6e-ab1a-ddd0539f76a7",
   "metadata": {},
   "source": [
    "#### Results"
   ]
  },
  {
   "cell_type": "code",
   "execution_count": 15,
   "id": "28d33a1b-5f14-4aa3-b8c1-a0e5b65b837f",
   "metadata": {},
   "outputs": [
    {
     "name": "stdout",
     "output_type": "stream",
     "text": [
      "  Age Group  Test RMSE\n",
      "0      0-44   0.475683\n",
      "1     45-64   0.406824\n",
      "2       65+   0.193921\n"
     ]
    }
   ],
   "source": [
    "results_df = pd.DataFrame({\n",
    "    'Age Group': ['0-44', '45-64', '65+'],\n",
    "    'Test RMSE': [rmse_0_44, rmse_45_64, rmse_65]\n",
    "})\n",
    "print(results_df)"
   ]
  },
  {
   "cell_type": "markdown",
   "id": "df7fe957-e47f-4f63-90fd-97c2b8aa92a5",
   "metadata": {},
   "source": [
    "Our models have a low RMSE in the log transformed space meaning that the predictions are close to the actual values in the dataset. Let's look at some of the support vectors that our model uses"
   ]
  },
  {
   "cell_type": "markdown",
   "id": "cd45c30d-e60c-4b3b-ac3c-6c51c9985170",
   "metadata": {},
   "source": [
    "#### Age 0-44 Support Vectors"
   ]
  },
  {
   "cell_type": "code",
   "execution_count": 16,
   "id": "7e6b3501-4197-40f7-a9c7-4f4616a0dc9d",
   "metadata": {},
   "outputs": [
    {
     "name": "stdout",
     "output_type": "stream",
     "text": [
      "Support vector 0 (age 0-44): LocationDesc value(s) = ['LocationDesc_Colorado']\n",
      "Support vector 1 (age 0-44): LocationDesc value(s) = ['LocationDesc_Utah']\n",
      "Support vector 2 (age 0-44): LocationDesc value(s) = ['LocationDesc_Connecticut']\n",
      "Support vector 3 (age 0-44): LocationDesc value(s) = ['LocationDesc_Washington']\n",
      "Support vector 4 (age 0-44): LocationDesc value(s) = ['LocationDesc_Alabama']\n",
      "Support vector 5 (age 0-44): LocationDesc value(s) = ['LocationDesc_Ohio']\n",
      "Support vector 6 (age 0-44): LocationDesc value(s) = ['LocationDesc_North Dakota']\n",
      "Support vector 7 (age 0-44): LocationDesc value(s) = ['LocationDesc_Indiana']\n",
      "Support vector 8 (age 0-44): LocationDesc value(s) = ['LocationDesc_Wyoming']\n",
      "Support vector 9 (age 0-44): LocationDesc value(s) = ['LocationDesc_Iowa']\n",
      "Support vector 10 (age 0-44): LocationDesc value(s) = ['LocationDesc_Delaware']\n",
      "Support vector 11 (age 0-44): LocationDesc value(s) = ['LocationDesc_Maryland']\n",
      "Support vector 12 (age 0-44): LocationDesc value(s) = ['LocationDesc_Nebraska']\n",
      "Support vector 13 (age 0-44): LocationDesc value(s) = ['LocationDesc_West Virginia']\n",
      "Support vector 14 (age 0-44): LocationDesc value(s) = ['LocationDesc_Michigan']\n",
      "Support vector 15 (age 0-44): LocationDesc value(s) = ['LocationDesc_Georgia']\n",
      "Support vector 16 (age 0-44): LocationDesc value(s) = ['LocationDesc_California']\n",
      "Support vector 17 (age 0-44): LocationDesc value(s) = ['LocationDesc_Virginia']\n",
      "Support vector 18 (age 0-44): LocationDesc value(s) = ['LocationDesc_Nevada']\n",
      "Support vector 19 (age 0-44): LocationDesc value(s) = ['LocationDesc_Oklahoma']\n",
      "Support vector 20 (age 0-44): LocationDesc value(s) = ['LocationDesc_Florida']\n",
      "Support vector 22 (age 0-44): LocationDesc value(s) = ['LocationDesc_Tennessee']\n",
      "Support vector 23 (age 0-44): LocationDesc value(s) = ['LocationDesc_Arkansas']\n",
      "Support vector 24 (age 0-44): LocationDesc value(s) = ['LocationDesc_Missouri']\n",
      "Support vector 25 (age 0-44): LocationDesc value(s) = ['LocationDesc_Alaska']\n",
      "Support vector 26 (age 0-44): LocationDesc value(s) = ['LocationDesc_Texas']\n",
      "Support vector 27 (age 0-44): LocationDesc value(s) = ['LocationDesc_New Mexico']\n",
      "Support vector 28 (age 0-44): LocationDesc value(s) = ['LocationDesc_Montana']\n",
      "Support vector 29 (age 0-44): LocationDesc value(s) = ['LocationDesc_South Carolina']\n",
      "Support vector 30 (age 0-44): LocationDesc value(s) = ['LocationDesc_Hawaii']\n",
      "Support vector 31 (age 0-44): LocationDesc value(s) = ['LocationDesc_Minnesota']\n",
      "Support vector 32 (age 0-44): LocationDesc value(s) = ['LocationDesc_Louisiana']\n",
      "Support vector 33 (age 0-44): LocationDesc value(s) = ['LocationDesc_Wisconsin']\n",
      "Support vector 34 (age 0-44): LocationDesc value(s) = ['LocationDesc_Maine']\n",
      "Support vector 35 (age 0-44): LocationDesc value(s) = ['LocationDesc_District of Columbia']\n",
      "Support vector 36 (age 0-44): LocationDesc value(s) = ['LocationDesc_Rhode Island']\n",
      "Support vector 37 (age 0-44): LocationDesc value(s) = ['LocationDesc_Kentucky']\n",
      "Support vector 38 (age 0-44): LocationDesc value(s) = ['LocationDesc_Mississippi']\n",
      "Support vector 39 (age 0-44): LocationDesc value(s) = ['LocationDesc_South Dakota']\n"
     ]
    }
   ],
   "source": [
    "best_ttr_model_0_44 = grid_search_0_44.best_estimator_\n",
    "best_pipeline_0_44 = best_ttr_model_0_44.regressor_\n",
    "best_svr_model_0_44 = best_pipeline_0_44.named_steps['svr']\n",
    "\n",
    "support_vectors_0_44 = best_svr_model_0_44.support_vectors_\n",
    "encoder_0_44 = best_pipeline_0_44.named_steps['columntransformer'].transformers_[1][1].named_steps['onehotencoder']\n",
    "encoded_columns_0_44 = encoder_0_44.get_feature_names_out(input_features=['LocationDesc'])\n",
    "support_vector_indices_0_44 = best_svr_model_0_44.support_\n",
    "original_data_support_vectors_0_44 = X_train_0_44.iloc[support_vector_indices_0_44]\n",
    "encoded_location_desc_values_0_44 = encoder_0_44.transform(original_data_support_vectors_0_44[['LocationDesc']]).toarray()\n",
    "\n",
    "for idx, encoded_vector in zip(support_vector_indices_0_44, encoded_location_desc_values_0_44):\n",
    "    location_desc_value_0_44 = encoded_columns_0_44[encoded_vector.astype(bool)].tolist()\n",
    "    print(f\"Support vector {idx} (age 0-44): LocationDesc value(s) = {location_desc_value_0_44}\")\n"
   ]
  },
  {
   "cell_type": "markdown",
   "id": "8aad0566-e865-4bf3-8178-da0dff43122d",
   "metadata": {},
   "source": [
    "#### Age 45-64 Support Vectors"
   ]
  },
  {
   "cell_type": "code",
   "execution_count": 17,
   "id": "5d31fe23-8807-4811-a165-be6f9fc187de",
   "metadata": {},
   "outputs": [
    {
     "name": "stdout",
     "output_type": "stream",
     "text": [
      "Support vector 2 (age 45-64): LocationDesc value(s) = ['LocationDesc_Connecticut']\n",
      "Support vector 4 (age 45-64): LocationDesc value(s) = ['LocationDesc_California']\n",
      "Support vector 6 (age 45-64): LocationDesc value(s) = ['LocationDesc_New Mexico']\n",
      "Support vector 7 (age 45-64): LocationDesc value(s) = ['LocationDesc_Kansas']\n",
      "Support vector 8 (age 45-64): LocationDesc value(s) = ['LocationDesc_Vermont']\n",
      "Support vector 9 (age 45-64): LocationDesc value(s) = ['LocationDesc_Maine']\n",
      "Support vector 10 (age 45-64): LocationDesc value(s) = ['LocationDesc_District of Columbia']\n",
      "Support vector 11 (age 45-64): LocationDesc value(s) = ['LocationDesc_Idaho']\n",
      "Support vector 12 (age 45-64): LocationDesc value(s) = ['LocationDesc_Minnesota']\n",
      "Support vector 13 (age 45-64): LocationDesc value(s) = ['LocationDesc_Washington']\n",
      "Support vector 14 (age 45-64): LocationDesc value(s) = ['LocationDesc_Michigan']\n",
      "Support vector 15 (age 45-64): LocationDesc value(s) = ['LocationDesc_Delaware']\n",
      "Support vector 17 (age 45-64): LocationDesc value(s) = ['LocationDesc_West Virginia']\n",
      "Support vector 18 (age 45-64): LocationDesc value(s) = ['LocationDesc_Montana']\n",
      "Support vector 19 (age 45-64): LocationDesc value(s) = ['LocationDesc_New Jersey']\n",
      "Support vector 24 (age 45-64): LocationDesc value(s) = ['LocationDesc_Mississippi']\n",
      "Support vector 26 (age 45-64): LocationDesc value(s) = ['LocationDesc_South Carolina']\n",
      "Support vector 29 (age 45-64): LocationDesc value(s) = ['LocationDesc_South Dakota']\n",
      "Support vector 31 (age 45-64): LocationDesc value(s) = ['LocationDesc_Massachusetts']\n",
      "Support vector 34 (age 45-64): LocationDesc value(s) = ['LocationDesc_Iowa']\n",
      "Support vector 35 (age 45-64): LocationDesc value(s) = ['LocationDesc_Colorado']\n",
      "Support vector 36 (age 45-64): LocationDesc value(s) = ['LocationDesc_Oregon']\n",
      "Support vector 37 (age 45-64): LocationDesc value(s) = ['LocationDesc_Indiana']\n",
      "Support vector 38 (age 45-64): LocationDesc value(s) = ['LocationDesc_Missouri']\n",
      "Support vector 39 (age 45-64): LocationDesc value(s) = ['LocationDesc_Rhode Island']\n"
     ]
    }
   ],
   "source": [
    "best_ttr_model_45_64 = grid_search_45_64.best_estimator_\n",
    "best_pipeline_45_64 = best_ttr_model_45_64.regressor_\n",
    "best_svr_model_45_64 = best_pipeline_45_64.named_steps['svr']\n",
    "\n",
    "support_vectors_45_64 = best_svr_model_45_64.support_vectors_\n",
    "encoder_45_64 = best_pipeline_45_64.named_steps['columntransformer'].transformers_[1][1].named_steps['onehotencoder']\n",
    "encoded_columns_45_64 = encoder_45_64.get_feature_names_out(input_features=['LocationDesc'])\n",
    "support_vector_indices_45_64 = best_svr_model_45_64.support_\n",
    "original_data_support_vectors_45_64 = X_train_45_64.iloc[support_vector_indices_45_64]\n",
    "encoded_location_desc_values_45_64 = encoder_45_64.transform(original_data_support_vectors_45_64[['LocationDesc']]).toarray()\n",
    "\n",
    "for idx, encoded_vector in zip(support_vector_indices_45_64, encoded_location_desc_values_45_64):\n",
    "    location_desc_value_45_64 = encoded_columns_45_64[encoded_vector.astype(bool)].tolist()\n",
    "    print(f\"Support vector {idx} (age 45-64): LocationDesc value(s) = {location_desc_value_45_64}\")\n"
   ]
  },
  {
   "cell_type": "markdown",
   "id": "da8bf4cb-7c62-4425-ba27-4617fde44c4d",
   "metadata": {},
   "source": [
    "#### Age 65+ Support Vectors"
   ]
  },
  {
   "cell_type": "code",
   "execution_count": 18,
   "id": "3d2b9ed4-3433-418c-81d9-627dc03996c9",
   "metadata": {},
   "outputs": [
    {
     "name": "stdout",
     "output_type": "stream",
     "text": [
      "Support vector 4 (age 65+): LocationDesc value(s) = ['LocationDesc_Arkansas']\n",
      "Support vector 16 (age 65+): LocationDesc value(s) = ['LocationDesc_Alaska']\n",
      "Support vector 21 (age 65+): LocationDesc value(s) = ['LocationDesc_New York']\n",
      "Support vector 26 (age 65+): LocationDesc value(s) = ['LocationDesc_Rhode Island']\n"
     ]
    }
   ],
   "source": [
    "best_ttr_model_65 = grid_search_65.best_estimator_\n",
    "best_pipeline_65 = best_ttr_model_65.regressor_\n",
    "best_svr_model_65 = best_pipeline_65.named_steps['svr']\n",
    "support_vectors_65 = best_svr_model_65.support_vectors_\n",
    "encoder_65 = best_pipeline_65.named_steps['columntransformer'].transformers_[1][1].named_steps['onehotencoder']\n",
    "encoded_columns_65 = encoder_65.get_feature_names_out(input_features=['LocationDesc'])\n",
    "\n",
    "support_vector_indices_65 = best_svr_model_65.support_\n",
    "original_data_support_vectors_65 = X_train_65.iloc[support_vector_indices_65]\n",
    "encoded_location_desc_values_65 = encoder_65.transform(original_data_support_vectors_65[['LocationDesc']]).toarray()\n",
    "\n",
    "for idx, encoded_vector in zip(support_vector_indices_65, encoded_location_desc_values_65):\n",
    "    location_desc_value_65 = encoded_columns_65[encoded_vector.astype(bool)].tolist()\n",
    "    print(f\"Support vector {idx} (age 65+): LocationDesc value(s) = {location_desc_value_65}\")\n"
   ]
  },
  {
   "cell_type": "markdown",
   "id": "39f0ad8e-92f5-4bd9-9bbf-df7e19d379a9",
   "metadata": {},
   "source": [
    "Since there are many support vectors for LocationDesc in the age groups 0-44 and 45-64, this suggests that LocationDesc does not provide strong or consistent differentiation for these age groups. In other words, LocationDesc might not be a strong predictor for these age groups in the context of predicting coronary heart disease (CHD) mortality.\n",
    "\n",
    "However, the fact that there are fewer support vectors for the 65+ age group indicates that LocationDesc might have some degree of predictive power for this group. This could suggest that geographic location plays a larger role in predicting CHD mortality for older adults.\n",
    "\n",
    "Additionally, it is notable that Rhode Island appears as a support vector for all three age groups, which could indicate that this state has unique characteristics or patterns influencing CHD mortality across different age groups. This may suggest that certain regional factors in Rhode Island are particularly relevant to the model, regardless of the age group being analyzed.\n",
    "\n",
    "Overall, the lack of a clear and consistent pattern across all age groups implies that there is no definitive, universal relationship between uninsured rates and CHD mortality across all U.S. states. The influence of LocationDesc on CHD mortality appears to vary by age group, with certain states, like Rhode Island, potentially playing a more significant role."
   ]
  },
  {
   "cell_type": "code",
   "execution_count": null,
   "id": "86785e3c-4d15-4c13-beb9-a1ea524a8fab",
   "metadata": {},
   "outputs": [],
   "source": []
  }
 ],
 "metadata": {
  "kernelspec": {
   "display_name": "Python 3 (ipykernel)",
   "language": "python",
   "name": "python3"
  },
  "language_info": {
   "codemirror_mode": {
    "name": "ipython",
    "version": 3
   },
   "file_extension": ".py",
   "mimetype": "text/x-python",
   "name": "python",
   "nbconvert_exporter": "python",
   "pygments_lexer": "ipython3",
   "version": "3.12.2"
  }
 },
 "nbformat": 4,
 "nbformat_minor": 5
}
