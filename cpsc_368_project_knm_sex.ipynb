{
 "cells": [
  {
   "cell_type": "markdown",
   "id": "7c50f737-2aeb-4a62-aa94-d7385f66472c",
   "metadata": {},
   "source": [
    "# CPSC 368 Impact By Sex (KNM Neighbours)\n",
    "## Import Data and Packages"
   ]
  },
  {
   "cell_type": "code",
   "execution_count": 1,
   "id": "88a72584-d0c2-42f8-99a7-85eaded20310",
   "metadata": {},
   "outputs": [],
   "source": [
    "import numpy as np\n",
    "import pandas as pd\n",
    "import seaborn as sns\n",
    "import matplotlib.pyplot as plt\n",
    "import altair as alt"
   ]
  },
  {
   "cell_type": "code",
   "execution_count": 2,
   "id": "fa7b104c-77a5-4596-894e-49edf7ff1d41",
   "metadata": {},
   "outputs": [],
   "source": [
    "USCDI_CHD = pd.read_csv(\"final_datasets_V1/cleaned/USCDI_CHD.csv\")\n",
    "KFF2019_new = pd.read_csv(\"final_datasets_V1/cleaned/KFF2019_new.csv\")\n",
    "total_data = pd.merge(USCDI_CHD, KFF2019_new, left_on='LocationDesc', right_on='Location', how='left')"
   ]
  },
  {
   "cell_type": "markdown",
   "id": "41b82a33-f4fd-4cb5-9d20-6f87ec85c521",
   "metadata": {},
   "source": [
    "## EDA\n",
    "For this analysis, the focus will be on uninsured rates and coronary heart disease (CHD) mortality rates across males and females in Texas and Massachusetts. \n",
    "\n",
    "`facet_1` displays bars for `CHDPercentage` by location and sex, with the `CHDPercentage_M` values being  greater than the corresponding `CHDPercentage_F` value for both states. This supports existing research that indicates that CHD incidence and mortality rates have historically been higher in men than women between the ages 35 and 84, though the difference in morbidity between sexes decreases with age (Lerner, Kannel, 1986)."
   ]
  },
  {
   "cell_type": "code",
   "execution_count": 3,
   "id": "38ab3bd8-d305-475e-9c51-57bcc2a579bc",
   "metadata": {},
   "outputs": [],
   "source": [
    "total_data_focus = total_data[(total_data['LocationDesc'].isin(['Texas', 'Massachusetts']))]"
   ]
  },
  {
   "cell_type": "code",
   "execution_count": 4,
   "id": "d82d0435-e1cb-420d-b64b-a4592e4041f5",
   "metadata": {},
   "outputs": [
    {
     "name": "stderr",
     "output_type": "stream",
     "text": [
      "/opt/anaconda3/lib/python3.12/site-packages/altair/utils/core.py:395: FutureWarning: the convert_dtype parameter is deprecated and will be removed in a future version.  Do ``ser.astype(object).apply()`` instead if you want ``convert_dtype=False``.\n",
      "  col = df[col_name].apply(to_list_if_array, convert_dtype=False)\n",
      "/opt/anaconda3/lib/python3.12/site-packages/altair/utils/core.py:395: FutureWarning: the convert_dtype parameter is deprecated and will be removed in a future version.  Do ``ser.astype(object).apply()`` instead if you want ``convert_dtype=False``.\n",
      "  col = df[col_name].apply(to_list_if_array, convert_dtype=False)\n"
     ]
    },
    {
     "data": {
      "text/html": [
       "\n",
       "<style>\n",
       "  #altair-viz-4aef745f9bb547b894c0b1c5904f6081.vega-embed {\n",
       "    width: 100%;\n",
       "    display: flex;\n",
       "  }\n",
       "\n",
       "  #altair-viz-4aef745f9bb547b894c0b1c5904f6081.vega-embed details,\n",
       "  #altair-viz-4aef745f9bb547b894c0b1c5904f6081.vega-embed details summary {\n",
       "    position: relative;\n",
       "  }\n",
       "</style>\n",
       "<div id=\"altair-viz-4aef745f9bb547b894c0b1c5904f6081\"></div>\n",
       "<script type=\"text/javascript\">\n",
       "  var VEGA_DEBUG = (typeof VEGA_DEBUG == \"undefined\") ? {} : VEGA_DEBUG;\n",
       "  (function(spec, embedOpt){\n",
       "    let outputDiv = document.currentScript.previousElementSibling;\n",
       "    if (outputDiv.id !== \"altair-viz-4aef745f9bb547b894c0b1c5904f6081\") {\n",
       "      outputDiv = document.getElementById(\"altair-viz-4aef745f9bb547b894c0b1c5904f6081\");\n",
       "    }\n",
       "    const paths = {\n",
       "      \"vega\": \"https://cdn.jsdelivr.net/npm/vega@5?noext\",\n",
       "      \"vega-lib\": \"https://cdn.jsdelivr.net/npm/vega-lib?noext\",\n",
       "      \"vega-lite\": \"https://cdn.jsdelivr.net/npm/vega-lite@5.8.0?noext\",\n",
       "      \"vega-embed\": \"https://cdn.jsdelivr.net/npm/vega-embed@6?noext\",\n",
       "    };\n",
       "\n",
       "    function maybeLoadScript(lib, version) {\n",
       "      var key = `${lib.replace(\"-\", \"\")}_version`;\n",
       "      return (VEGA_DEBUG[key] == version) ?\n",
       "        Promise.resolve(paths[lib]) :\n",
       "        new Promise(function(resolve, reject) {\n",
       "          var s = document.createElement('script');\n",
       "          document.getElementsByTagName(\"head\")[0].appendChild(s);\n",
       "          s.async = true;\n",
       "          s.onload = () => {\n",
       "            VEGA_DEBUG[key] = version;\n",
       "            return resolve(paths[lib]);\n",
       "          };\n",
       "          s.onerror = () => reject(`Error loading script: ${paths[lib]}`);\n",
       "          s.src = paths[lib];\n",
       "        });\n",
       "    }\n",
       "\n",
       "    function showError(err) {\n",
       "      outputDiv.innerHTML = `<div class=\"error\" style=\"color:red;\">${err}</div>`;\n",
       "      throw err;\n",
       "    }\n",
       "\n",
       "    function displayChart(vegaEmbed) {\n",
       "      vegaEmbed(outputDiv, spec, embedOpt)\n",
       "        .catch(err => showError(`Javascript Error: ${err.message}<br>This usually means there's a typo in your chart specification. See the javascript console for the full traceback.`));\n",
       "    }\n",
       "\n",
       "    if(typeof define === \"function\" && define.amd) {\n",
       "      requirejs.config({paths});\n",
       "      require([\"vega-embed\"], displayChart, err => showError(`Error loading script: ${err.message}`));\n",
       "    } else {\n",
       "      maybeLoadScript(\"vega\", \"5\")\n",
       "        .then(() => maybeLoadScript(\"vega-lite\", \"5.8.0\"))\n",
       "        .then(() => maybeLoadScript(\"vega-embed\", \"6\"))\n",
       "        .catch(showError)\n",
       "        .then(() => displayChart(vegaEmbed));\n",
       "    }\n",
       "  })({\"config\": {\"view\": {\"continuousWidth\": 300, \"continuousHeight\": 300}}, \"repeat\": {\"row\": [\"CHDPercentage_F\", \"CHDPercentage_M\"]}, \"spec\": {\"data\": {\"name\": \"data-378c8d38aa86fb7d2d4bdc0ccf571f0a\"}, \"mark\": {\"type\": \"bar\"}, \"encoding\": {\"x\": {\"field\": {\"repeat\": \"row\"}, \"scale\": {\"domain\": [0, 0.0005700510478237]}, \"type\": \"quantitative\"}, \"y\": {\"field\": \"LocationDesc\", \"type\": \"nominal\"}}}, \"title\": \"CHD Percentage for Females and Males by Location\", \"$schema\": \"https://vega.github.io/schema/vega-lite/v5.8.0.json\", \"datasets\": {\"data-378c8d38aa86fb7d2d4bdc0ccf571f0a\": [{\"LocationDesc\": \"Massachusetts\", \"Frac_F\": 0.3103964098728496, \"CHD_Deaths\": 51.1, \"CHD_Deaths_F\": 15.861256544502618, \"CHD_Deaths_M\": 35.238743455497385, \"CHDPercentage\": 0.000511, \"CHDPercentage_F\": 0.000158612565445, \"CHDPercentage_M\": 0.0003523874345549, \"Location\": \"Massachusetts\", \"All_Uninsured\": 0.044, \"Female_Uninsured\": 0.031, \"Male_Uninsured\": 0.056}, {\"LocationDesc\": \"Texas\", \"Frac_F\": 0.3363782912412681, \"CHD_Deaths\": 85.9, \"CHD_Deaths_F\": 28.89489521762494, \"CHD_Deaths_M\": 57.00510478237507, \"CHDPercentage\": 0.000859, \"CHDPercentage_F\": 0.0002889489521762, \"CHDPercentage_M\": 0.0005700510478237, \"Location\": \"Texas\", \"All_Uninsured\": 0.245, \"Female_Uninsured\": 0.232, \"Male_Uninsured\": 0.259}]}}, {\"mode\": \"vega-lite\"});\n",
       "</script>"
      ],
      "text/plain": [
       "alt.RepeatChart(...)"
      ]
     },
     "execution_count": 4,
     "metadata": {},
     "output_type": "execute_result"
    }
   ],
   "source": [
    "facet_1 = alt.Chart(total_data_focus).mark_bar().encode(\n",
    "    alt.Y(\"LocationDesc:N\"),\n",
    "    alt.X(alt.repeat('row'), \n",
    "          type='quantitative', \n",
    "          scale=alt.Scale(domain=[0,max(total_data_focus['CHDPercentage_F'].max(), total_data_focus['CHDPercentage_M'].max())]))\n",
    ").repeat(\n",
    "  row=['CHDPercentage_F', 'CHDPercentage_M',]\n",
    ").properties(\n",
    "    title=\"CHD Percentage for Females and Males by Location\"\n",
    ")\n",
    "facet_1"
   ]
  },
  {
   "cell_type": "markdown",
   "id": "22681798-0d6d-4c23-9e4c-fcc913a22471",
   "metadata": {},
   "source": [
    "`facet_2` displays bars for uninsurance rate by location and sex, with the `Male_Uninsured` values being  greater than the corresponding `Female_Uninsured` value for both states."
   ]
  },
  {
   "cell_type": "code",
   "execution_count": 5,
   "id": "381c854d-90e0-4576-85e0-63258e6ac929",
   "metadata": {},
   "outputs": [
    {
     "name": "stderr",
     "output_type": "stream",
     "text": [
      "/opt/anaconda3/lib/python3.12/site-packages/altair/utils/core.py:395: FutureWarning: the convert_dtype parameter is deprecated and will be removed in a future version.  Do ``ser.astype(object).apply()`` instead if you want ``convert_dtype=False``.\n",
      "  col = df[col_name].apply(to_list_if_array, convert_dtype=False)\n",
      "/opt/anaconda3/lib/python3.12/site-packages/altair/utils/core.py:395: FutureWarning: the convert_dtype parameter is deprecated and will be removed in a future version.  Do ``ser.astype(object).apply()`` instead if you want ``convert_dtype=False``.\n",
      "  col = df[col_name].apply(to_list_if_array, convert_dtype=False)\n"
     ]
    },
    {
     "data": {
      "text/html": [
       "\n",
       "<style>\n",
       "  #altair-viz-452fc304f383474b9f8aedd8cacf3dcf.vega-embed {\n",
       "    width: 100%;\n",
       "    display: flex;\n",
       "  }\n",
       "\n",
       "  #altair-viz-452fc304f383474b9f8aedd8cacf3dcf.vega-embed details,\n",
       "  #altair-viz-452fc304f383474b9f8aedd8cacf3dcf.vega-embed details summary {\n",
       "    position: relative;\n",
       "  }\n",
       "</style>\n",
       "<div id=\"altair-viz-452fc304f383474b9f8aedd8cacf3dcf\"></div>\n",
       "<script type=\"text/javascript\">\n",
       "  var VEGA_DEBUG = (typeof VEGA_DEBUG == \"undefined\") ? {} : VEGA_DEBUG;\n",
       "  (function(spec, embedOpt){\n",
       "    let outputDiv = document.currentScript.previousElementSibling;\n",
       "    if (outputDiv.id !== \"altair-viz-452fc304f383474b9f8aedd8cacf3dcf\") {\n",
       "      outputDiv = document.getElementById(\"altair-viz-452fc304f383474b9f8aedd8cacf3dcf\");\n",
       "    }\n",
       "    const paths = {\n",
       "      \"vega\": \"https://cdn.jsdelivr.net/npm/vega@5?noext\",\n",
       "      \"vega-lib\": \"https://cdn.jsdelivr.net/npm/vega-lib?noext\",\n",
       "      \"vega-lite\": \"https://cdn.jsdelivr.net/npm/vega-lite@5.8.0?noext\",\n",
       "      \"vega-embed\": \"https://cdn.jsdelivr.net/npm/vega-embed@6?noext\",\n",
       "    };\n",
       "\n",
       "    function maybeLoadScript(lib, version) {\n",
       "      var key = `${lib.replace(\"-\", \"\")}_version`;\n",
       "      return (VEGA_DEBUG[key] == version) ?\n",
       "        Promise.resolve(paths[lib]) :\n",
       "        new Promise(function(resolve, reject) {\n",
       "          var s = document.createElement('script');\n",
       "          document.getElementsByTagName(\"head\")[0].appendChild(s);\n",
       "          s.async = true;\n",
       "          s.onload = () => {\n",
       "            VEGA_DEBUG[key] = version;\n",
       "            return resolve(paths[lib]);\n",
       "          };\n",
       "          s.onerror = () => reject(`Error loading script: ${paths[lib]}`);\n",
       "          s.src = paths[lib];\n",
       "        });\n",
       "    }\n",
       "\n",
       "    function showError(err) {\n",
       "      outputDiv.innerHTML = `<div class=\"error\" style=\"color:red;\">${err}</div>`;\n",
       "      throw err;\n",
       "    }\n",
       "\n",
       "    function displayChart(vegaEmbed) {\n",
       "      vegaEmbed(outputDiv, spec, embedOpt)\n",
       "        .catch(err => showError(`Javascript Error: ${err.message}<br>This usually means there's a typo in your chart specification. See the javascript console for the full traceback.`));\n",
       "    }\n",
       "\n",
       "    if(typeof define === \"function\" && define.amd) {\n",
       "      requirejs.config({paths});\n",
       "      require([\"vega-embed\"], displayChart, err => showError(`Error loading script: ${err.message}`));\n",
       "    } else {\n",
       "      maybeLoadScript(\"vega\", \"5\")\n",
       "        .then(() => maybeLoadScript(\"vega-lite\", \"5.8.0\"))\n",
       "        .then(() => maybeLoadScript(\"vega-embed\", \"6\"))\n",
       "        .catch(showError)\n",
       "        .then(() => displayChart(vegaEmbed));\n",
       "    }\n",
       "  })({\"config\": {\"view\": {\"continuousWidth\": 300, \"continuousHeight\": 300}}, \"repeat\": {\"row\": [\"Female_Uninsured\", \"Male_Uninsured\"]}, \"spec\": {\"data\": {\"name\": \"data-378c8d38aa86fb7d2d4bdc0ccf571f0a\"}, \"mark\": {\"type\": \"bar\"}, \"encoding\": {\"x\": {\"field\": {\"repeat\": \"row\"}, \"scale\": {\"domain\": [0, 0.259]}, \"type\": \"quantitative\"}, \"y\": {\"field\": \"LocationDesc\", \"type\": \"nominal\"}}}, \"title\": \"Percentage of Uninsured Individuals for Females and Males by Location\", \"$schema\": \"https://vega.github.io/schema/vega-lite/v5.8.0.json\", \"datasets\": {\"data-378c8d38aa86fb7d2d4bdc0ccf571f0a\": [{\"LocationDesc\": \"Massachusetts\", \"Frac_F\": 0.3103964098728496, \"CHD_Deaths\": 51.1, \"CHD_Deaths_F\": 15.861256544502618, \"CHD_Deaths_M\": 35.238743455497385, \"CHDPercentage\": 0.000511, \"CHDPercentage_F\": 0.000158612565445, \"CHDPercentage_M\": 0.0003523874345549, \"Location\": \"Massachusetts\", \"All_Uninsured\": 0.044, \"Female_Uninsured\": 0.031, \"Male_Uninsured\": 0.056}, {\"LocationDesc\": \"Texas\", \"Frac_F\": 0.3363782912412681, \"CHD_Deaths\": 85.9, \"CHD_Deaths_F\": 28.89489521762494, \"CHD_Deaths_M\": 57.00510478237507, \"CHDPercentage\": 0.000859, \"CHDPercentage_F\": 0.0002889489521762, \"CHDPercentage_M\": 0.0005700510478237, \"Location\": \"Texas\", \"All_Uninsured\": 0.245, \"Female_Uninsured\": 0.232, \"Male_Uninsured\": 0.259}]}}, {\"mode\": \"vega-lite\"});\n",
       "</script>"
      ],
      "text/plain": [
       "alt.RepeatChart(...)"
      ]
     },
     "execution_count": 5,
     "metadata": {},
     "output_type": "execute_result"
    }
   ],
   "source": [
    "facet_2 = alt.Chart(total_data_focus).mark_bar().encode(\n",
    "    alt.Y(\"LocationDesc:N\"),\n",
    "    alt.X(alt.repeat('row'), \n",
    "          type='quantitative', \n",
    "          scale=alt.Scale(domain=[0,max(total_data_focus['Female_Uninsured'].max(), total_data_focus['Male_Uninsured'].max())]))\n",
    ").repeat(\n",
    "  row=['Female_Uninsured', 'Male_Uninsured',]\n",
    ").properties(\n",
    "    title=\"Percentage of Uninsured Individuals for Females and Males by Location\"\n",
    ")\n",
    "facet_2"
   ]
  },
  {
   "cell_type": "markdown",
   "id": "b5360ec3-ae99-4073-9cbf-1380c95a8185",
   "metadata": {},
   "source": [
    "`plot_3` displays bars for the ratio of the percentage of uninsured individuals over the percentage of coronary heart disease (CHD) mortality rates by location and sex, with the `CHD_Uninsured_Ratio_F` values being lower than the corresponding `CHD_Uninsured_Ratio_M` value for both states. This implies that uninsured females are at a relatively lower risk of CHD mortality than uninsured males."
   ]
  },
  {
   "cell_type": "code",
   "execution_count": 6,
   "id": "593a40ef-95ad-475f-b989-0a73eee7e5e4",
   "metadata": {},
   "outputs": [
    {
     "name": "stderr",
     "output_type": "stream",
     "text": [
      "/var/folders/sp/136d3tf94ns_hpp_7z4mgphm0000gp/T/ipykernel_56089/3765508945.py:1: SettingWithCopyWarning: \n",
      "A value is trying to be set on a copy of a slice from a DataFrame.\n",
      "Try using .loc[row_indexer,col_indexer] = value instead\n",
      "\n",
      "See the caveats in the documentation: https://pandas.pydata.org/pandas-docs/stable/user_guide/indexing.html#returning-a-view-versus-a-copy\n",
      "  total_data_focus[\"CHD_Uninsured_Ratio_F\"] = total_data_focus[\"CHDPercentage_F\"] / total_data_focus[\"Female_Uninsured\"]\n",
      "/var/folders/sp/136d3tf94ns_hpp_7z4mgphm0000gp/T/ipykernel_56089/3765508945.py:2: SettingWithCopyWarning: \n",
      "A value is trying to be set on a copy of a slice from a DataFrame.\n",
      "Try using .loc[row_indexer,col_indexer] = value instead\n",
      "\n",
      "See the caveats in the documentation: https://pandas.pydata.org/pandas-docs/stable/user_guide/indexing.html#returning-a-view-versus-a-copy\n",
      "  total_data_focus[\"CHD_Uninsured_Ratio_M\"] = total_data_focus[\"CHDPercentage_M\"] / total_data_focus[\"Male_Uninsured\"]\n",
      "/opt/anaconda3/lib/python3.12/site-packages/altair/utils/core.py:395: FutureWarning: the convert_dtype parameter is deprecated and will be removed in a future version.  Do ``ser.astype(object).apply()`` instead if you want ``convert_dtype=False``.\n",
      "  col = df[col_name].apply(to_list_if_array, convert_dtype=False)\n",
      "/opt/anaconda3/lib/python3.12/site-packages/altair/utils/core.py:395: FutureWarning: the convert_dtype parameter is deprecated and will be removed in a future version.  Do ``ser.astype(object).apply()`` instead if you want ``convert_dtype=False``.\n",
      "  col = df[col_name].apply(to_list_if_array, convert_dtype=False)\n"
     ]
    },
    {
     "data": {
      "text/html": [
       "\n",
       "<style>\n",
       "  #altair-viz-5cd1bddaada548e5b72ec8295cb99c79.vega-embed {\n",
       "    width: 100%;\n",
       "    display: flex;\n",
       "  }\n",
       "\n",
       "  #altair-viz-5cd1bddaada548e5b72ec8295cb99c79.vega-embed details,\n",
       "  #altair-viz-5cd1bddaada548e5b72ec8295cb99c79.vega-embed details summary {\n",
       "    position: relative;\n",
       "  }\n",
       "</style>\n",
       "<div id=\"altair-viz-5cd1bddaada548e5b72ec8295cb99c79\"></div>\n",
       "<script type=\"text/javascript\">\n",
       "  var VEGA_DEBUG = (typeof VEGA_DEBUG == \"undefined\") ? {} : VEGA_DEBUG;\n",
       "  (function(spec, embedOpt){\n",
       "    let outputDiv = document.currentScript.previousElementSibling;\n",
       "    if (outputDiv.id !== \"altair-viz-5cd1bddaada548e5b72ec8295cb99c79\") {\n",
       "      outputDiv = document.getElementById(\"altair-viz-5cd1bddaada548e5b72ec8295cb99c79\");\n",
       "    }\n",
       "    const paths = {\n",
       "      \"vega\": \"https://cdn.jsdelivr.net/npm/vega@5?noext\",\n",
       "      \"vega-lib\": \"https://cdn.jsdelivr.net/npm/vega-lib?noext\",\n",
       "      \"vega-lite\": \"https://cdn.jsdelivr.net/npm/vega-lite@5.8.0?noext\",\n",
       "      \"vega-embed\": \"https://cdn.jsdelivr.net/npm/vega-embed@6?noext\",\n",
       "    };\n",
       "\n",
       "    function maybeLoadScript(lib, version) {\n",
       "      var key = `${lib.replace(\"-\", \"\")}_version`;\n",
       "      return (VEGA_DEBUG[key] == version) ?\n",
       "        Promise.resolve(paths[lib]) :\n",
       "        new Promise(function(resolve, reject) {\n",
       "          var s = document.createElement('script');\n",
       "          document.getElementsByTagName(\"head\")[0].appendChild(s);\n",
       "          s.async = true;\n",
       "          s.onload = () => {\n",
       "            VEGA_DEBUG[key] = version;\n",
       "            return resolve(paths[lib]);\n",
       "          };\n",
       "          s.onerror = () => reject(`Error loading script: ${paths[lib]}`);\n",
       "          s.src = paths[lib];\n",
       "        });\n",
       "    }\n",
       "\n",
       "    function showError(err) {\n",
       "      outputDiv.innerHTML = `<div class=\"error\" style=\"color:red;\">${err}</div>`;\n",
       "      throw err;\n",
       "    }\n",
       "\n",
       "    function displayChart(vegaEmbed) {\n",
       "      vegaEmbed(outputDiv, spec, embedOpt)\n",
       "        .catch(err => showError(`Javascript Error: ${err.message}<br>This usually means there's a typo in your chart specification. See the javascript console for the full traceback.`));\n",
       "    }\n",
       "\n",
       "    if(typeof define === \"function\" && define.amd) {\n",
       "      requirejs.config({paths});\n",
       "      require([\"vega-embed\"], displayChart, err => showError(`Error loading script: ${err.message}`));\n",
       "    } else {\n",
       "      maybeLoadScript(\"vega\", \"5\")\n",
       "        .then(() => maybeLoadScript(\"vega-lite\", \"5.8.0\"))\n",
       "        .then(() => maybeLoadScript(\"vega-embed\", \"6\"))\n",
       "        .catch(showError)\n",
       "        .then(() => displayChart(vegaEmbed));\n",
       "    }\n",
       "  })({\"config\": {\"view\": {\"continuousWidth\": 300, \"continuousHeight\": 300}}, \"repeat\": {\"row\": [\"CHD_Uninsured_Ratio_F\", \"CHD_Uninsured_Ratio_M\"]}, \"spec\": {\"data\": {\"name\": \"data-91fb3fdd3c589ab862131dd45e7936c9\"}, \"mark\": {\"type\": \"bar\"}, \"encoding\": {\"x\": {\"field\": {\"repeat\": \"row\"}, \"scale\": {\"domain\": [0, 0.006292632759908929]}, \"type\": \"quantitative\"}, \"y\": {\"field\": \"LocationDesc\", \"type\": \"nominal\"}}}, \"title\": \"Ratio of CHD Mortality Percentage over Uninsured Percentage for Females and Males by Location\", \"$schema\": \"https://vega.github.io/schema/vega-lite/v5.8.0.json\", \"datasets\": {\"data-91fb3fdd3c589ab862131dd45e7936c9\": [{\"LocationDesc\": \"Massachusetts\", \"Frac_F\": 0.3103964098728496, \"CHD_Deaths\": 51.1, \"CHD_Deaths_F\": 15.861256544502618, \"CHD_Deaths_M\": 35.238743455497385, \"CHDPercentage\": 0.000511, \"CHDPercentage_F\": 0.000158612565445, \"CHDPercentage_M\": 0.0003523874345549, \"Location\": \"Massachusetts\", \"All_Uninsured\": 0.044, \"Female_Uninsured\": 0.031, \"Male_Uninsured\": 0.056, \"CHD_Uninsured_Ratio_F\": 0.005116534369193548, \"CHD_Uninsured_Ratio_M\": 0.006292632759908929}, {\"LocationDesc\": \"Texas\", \"Frac_F\": 0.3363782912412681, \"CHD_Deaths\": 85.9, \"CHD_Deaths_F\": 28.89489521762494, \"CHD_Deaths_M\": 57.00510478237507, \"CHDPercentage\": 0.000859, \"CHDPercentage_F\": 0.0002889489521762, \"CHDPercentage_M\": 0.0005700510478237, \"Location\": \"Texas\", \"All_Uninsured\": 0.245, \"Female_Uninsured\": 0.232, \"Male_Uninsured\": 0.259, \"CHD_Uninsured_Ratio_F\": 0.001245469621449138, \"CHD_Uninsured_Ratio_M\": 0.002200969296616602}]}}, {\"mode\": \"vega-lite\"});\n",
       "</script>"
      ],
      "text/plain": [
       "alt.RepeatChart(...)"
      ]
     },
     "execution_count": 6,
     "metadata": {},
     "output_type": "execute_result"
    }
   ],
   "source": [
    "total_data_focus[\"CHD_Uninsured_Ratio_F\"] = total_data_focus[\"CHDPercentage_F\"] / total_data_focus[\"Female_Uninsured\"]\n",
    "total_data_focus[\"CHD_Uninsured_Ratio_M\"] = total_data_focus[\"CHDPercentage_M\"] / total_data_focus[\"Male_Uninsured\"]\n",
    "\n",
    "plot_3 = alt.Chart(total_data_focus).mark_bar().encode(\n",
    "    alt.Y(\"LocationDesc:N\"),\n",
    "    alt.X(alt.repeat('row'), \n",
    "          type='quantitative', \n",
    "          scale=alt.Scale(domain=[0,max(total_data_focus['CHD_Uninsured_Ratio_F'].max(), total_data_focus['CHD_Uninsured_Ratio_M'].max())]))\n",
    ").repeat(\n",
    "  row=['CHD_Uninsured_Ratio_F', 'CHD_Uninsured_Ratio_M',]\n",
    ").properties(\n",
    "    title=\"Ratio of CHD Mortality Percentage over Uninsured Percentage for Females and Males by Location\"\n",
    ")\n",
    "plot_3"
   ]
  },
  {
   "cell_type": "markdown",
   "id": "78ccbd20-02a8-4139-86ab-860b0c11eddb",
   "metadata": {},
   "source": [
    "## References\n",
    "- Lerner, D. J., & Kannel, W. B. (1986). Patterns of coronary heart disease morbidity and mortality in the sexes: a 26-year follow-up of the Framingham population. American heart journal, 111(2), 383–390. https://doi.org/10.1016/0002-8703(86)90155-9"
   ]
  },
  {
   "cell_type": "code",
   "execution_count": null,
   "id": "6aaf7204-e154-4082-861b-d9abf946641f",
   "metadata": {},
   "outputs": [],
   "source": []
  }
 ],
 "metadata": {
  "kernelspec": {
   "display_name": "Python 3 (ipykernel)",
   "language": "python",
   "name": "python3"
  },
  "language_info": {
   "codemirror_mode": {
    "name": "ipython",
    "version": 3
   },
   "file_extension": ".py",
   "mimetype": "text/x-python",
   "name": "python",
   "nbconvert_exporter": "python",
   "pygments_lexer": "ipython3",
   "version": "3.12.2"
  }
 },
 "nbformat": 4,
 "nbformat_minor": 5
}
