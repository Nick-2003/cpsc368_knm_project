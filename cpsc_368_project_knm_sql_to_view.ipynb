{
 "cells": [
  {
   "cell_type": "markdown",
   "id": "2a6cb93e-45ec-4951-990a-74c02d7be32a",
   "metadata": {},
   "source": [
    "# CPSC 368 SQL Create Views (KNM Neighbours)\n",
    "\n",
    "## Prerequisites\n",
    "\n",
    "- All of the code below is to be run AFTER running `cpsc_368_project_knm_csv_to_sql.ipynb` for creating the file \"knm_datasetup.sql\".\n",
    "\n",
    "To upload tables: \n",
    "\n",
    "- Import \"knm_datasetup.sql\" to SSH server: `scp \"<PATH_TO_START>/knm_datasetup.sql\" <CWL>@remote.students.cs.ubc.ca:/<PATH_TO_END>/`\n",
    "- SSH connect to UBC department servers: `ssh <CWL>@remote.students.cs.ubc.ca`\n",
    "- Move to location of \"knm_datasetup.sql\": `cd <PATH_TO_SQL>`\n",
    "- Enter MySQL within SSH: `rlwrap sqlplus ora_<CWL>@stu`\n",
    "    - Password: `<studentnum>`\n",
    "- In MySQL, run `start knm_datasetup.sql;` to run all SQL imports\n",
    "\n",
    "To run SQL in notebook (only tested within Jupyter Lab):\n",
    "\n",
    "- Open terminal\n",
    "- Run `ssh -l <CWL> -L 127.0.0.1:1522:dbhost.students.cs.ubc.ca:1522 remote.students.cs.ubc.ca` to access SSH server\n",
    "\n",
    "Reference for connection to database: https://www.students.cs.ubc.ca/~cs-368/resources/connecting-to-db.html"
   ]
  },
  {
   "cell_type": "markdown",
   "id": "b50c0509-0679-4973-b662-a25cd61dd9b1",
   "metadata": {},
   "source": [
    "## Loading Data and Packages"
   ]
  },
  {
   "cell_type": "code",
   "execution_count": 1,
   "id": "2bb14f83-00c1-4868-a093-b69ec852d6a6",
   "metadata": {},
   "outputs": [],
   "source": [
    "import oracledb\n",
    "import pandas as pd"
   ]
  },
  {
   "cell_type": "code",
   "execution_count": 2,
   "id": "45b76bbf-bc4c-4e66-a62b-f1376ae77f29",
   "metadata": {},
   "outputs": [],
   "source": [
    "# INPUT USER INFO HERE\n",
    "CWL = \"\"\n",
    "studentnum = \"\""
   ]
  },
  {
   "cell_type": "markdown",
   "id": "99cde76e-b4bf-4284-b396-ce6b1ebd42b4",
   "metadata": {},
   "source": [
    "## Test Run"
   ]
  },
  {
   "cell_type": "code",
   "execution_count": 3,
   "id": "362198b0-5f52-47bc-8a43-5ea7481d6473",
   "metadata": {},
   "outputs": [
    {
     "name": "stdout",
     "output_type": "stream",
     "text": [
      "('United States', 0.612, 0.077, 0.145, 0.02, 0.016, 0.129, 1.0)\n",
      "('Alabama', 0.598, 0.075, 0.116, 0.036, 0.025, 0.149, 1.0)\n",
      "('Alaska', 0.582, 0.047, 0.159, 0.011, 0.047, 0.153, 1.0)\n",
      "=========================\n",
      "('United States', 0.607, 0.079, 0.165, 0.02, 0.015, 0.114, 1.0)\n",
      "('Alabama', 0.588, 0.078, 0.139, 0.038, 0.024, 0.133, 1.0)\n",
      "('Alaska', 0.591, 0.041, 0.17, 0.013, 0.065, 0.119, 1.0)\n",
      "=========================\n",
      "('United States', 0.618, 0.076, 0.124, 0.02, 0.017, 0.145, 1.0)\n",
      "('Alabama', 0.609, 0.071, 0.091, 0.035, 0.027, 0.167, 1.0)\n",
      "('Alaska', 0.573, 0.053, 0.148, 0.01, 0.028, 0.187, 1.0)\n",
      "=========================\n",
      "(2015, 2019, 'Oklahoma', 'Cancer', 'Breast cancer mortality among all females, underlying cause', 'per 100,000', 'Age-adjusted Rate', 22.5, 'Overall', 'Overall')\n",
      "(2015, 2019, 'Alaska', 'Cancer', 'Cervical cancer mortality among all females, underlying cause', 'per 100,000', 'Age-adjusted Rate', 1.7, 'Sex', 'Female')\n",
      "(2015, 2019, 'Iowa', 'Cancer', 'Breast cancer mortality among all females, underlying cause', 'per 100,000', 'Age-adjusted Rate', 18.4, 'Overall', 'Overall')\n",
      "=========================\n",
      "System runs without error, please proceed.\n"
     ]
    }
   ],
   "source": [
    "# Simple test run\n",
    "dsn = oracledb.makedsn(\"localhost\", 1522, service_name=\"stu\")\n",
    "connection = oracledb.connect(user=f\"ora_{CWL}\", password=f\"a{studentnum}\", dsn=dsn)\n",
    "cur = connection.cursor()\n",
    "\n",
    "try:\n",
    "    for row in cur.execute(\n",
    "        \"\"\"\n",
    "        SELECT * FROM KFF2019_adult FETCH FIRST 3 ROWS ONLY\n",
    "        \"\"\"\n",
    "        ):\n",
    "        print(row)\n",
    "    print(\"=========================\")\n",
    "    \n",
    "    for row in cur.execute(\n",
    "        \"\"\"\n",
    "        SELECT * FROM KFF2019_female FETCH FIRST 3 ROWS ONLY\n",
    "        \"\"\"\n",
    "        ):\n",
    "        print(row)\n",
    "    print(\"=========================\")\n",
    "\n",
    "    for row in cur.execute(\n",
    "        \"\"\"\n",
    "        SELECT * FROM KFF2019_male FETCH FIRST 3 ROWS ONLY\n",
    "        \"\"\"\n",
    "        ):\n",
    "        print(row)\n",
    "    print(\"=========================\")\n",
    "\n",
    "    for row in cur.execute(\n",
    "        \"\"\"\n",
    "        SELECT * FROM USCDI_filter FETCH FIRST 3 ROWS ONLY\n",
    "        \"\"\"\n",
    "        ):\n",
    "        print(row)\n",
    "    print(\"=========================\")\n",
    "except Exception as e:\n",
    "    print(f\"Error executing SQL query: {e}\")\n",
    "else: \n",
    "    print(\"System runs without error, please proceed.\")\n",
    "finally: \n",
    "    cur.close()\n",
    "    connection.close()"
   ]
  },
  {
   "cell_type": "markdown",
   "id": "733f1b19-86f5-49e7-9dbb-a40750173b84",
   "metadata": {},
   "source": [
    "## `KFF2019_NEW`\n",
    "\n",
    "- There are 3 KFF datasets: one for all adults aged 19-64, and two for males and females aged 19-64.\n",
    "- Each dataset has a corresponding `Group` column applied to them before they are joined on `Location`.\n",
    "- Since our focus is on uninsured adults exclusively, only the `Uninsured` column of values are acquired for each individual dataset, which are then grouped by location to create the columns `All_Uninsured`, `Female_Uninsured`, and `Male_Uninsured`, corresponding to the proportion of uninsured individuals in each category for each country.\n",
    "\n",
    "| Column | Description | Data Type | Property |\n",
    "| ------- | ------- | ------- | ------- |\n",
    "| `Location`  | State within U.S. | `VARCHAR2(50)` | `PRIMARY KEY` |\n",
    "| `All_Uninsured` | Proportion of uninsured individuals aged between 19 and 64 | `DECIMAL(19, 18)` | N/A |\n",
    "| `Female_Uninsured` | Proportion of uninsured female individuals aged between 19 and 64 | `DECIMAL(19, 18)` | N/A |\n",
    "| `Male_Uninsured` | Proportion of uninsured male individuals aged between 19 and 64 | `DECIMAL(19, 18)` | N/A |"
   ]
  },
  {
   "cell_type": "code",
   "execution_count": 4,
   "id": "80d87cd5-438e-4738-95b1-d70ff4796fa6",
   "metadata": {},
   "outputs": [
    {
     "name": "stdout",
     "output_type": "stream",
     "text": [
      "Error executing SQL query: ORA-00955: name is already used by an existing object\n",
      "Help: https://docs.oracle.com/error-help/db/ora-00955/\n"
     ]
    }
   ],
   "source": [
    "# KFF2019_NEW\n",
    "dsn = oracledb.makedsn(\"localhost\", 1522, service_name=\"stu\")\n",
    "connection = oracledb.connect(user=f\"ora_{CWL}\", password=f\"a{studentnum}\", dsn=dsn)\n",
    "cur = connection.cursor()\n",
    "\n",
    "try:\n",
    "    # Remove KFF2019_NEW view only if it exists\n",
    "    cur.execute(\"SELECT COUNT(*) FROM ALL_VIEWS WHERE VIEW_NAME = 'KFF2019_NEW'\")\n",
    "    view_exists = cur.fetchone()[0]\n",
    "    if view_exists:\n",
    "        cur.execute(\"DROP VIEW KFF2019_NEW CASCADE CONSTRAINTS\")\n",
    "    \n",
    "    # Create KFF2019_NEW view\n",
    "    cur.execute(\n",
    "        \"\"\"\n",
    "        CREATE VIEW KFF2019_NEW AS \n",
    "        SELECT kffa1.\"Location\" AS Location, kffa1.\"Uninsured\" AS All_Uninsured, kfff1.\"Uninsured\" AS Female_Uninsured, kffm1.\"Uninsured\" AS Male_Uninsured\n",
    "        FROM KFF2019_adult kffa1\n",
    "        INNER JOIN KFF2019_female kfff1 ON kffa1.\"Location\" = kfff1.\"Location\"\n",
    "        INNER JOIN KFF2019_male kffm1 ON kffa1.\"Location\" = kffm1.\"Location\"\n",
    "        WHERE kffa1.\"Location\" != 'United States'\n",
    "        \"\"\"\n",
    "    )\n",
    "    cur.execute(\n",
    "        \"\"\"\n",
    "        SELECT * \n",
    "        FROM KFF2019_NEW\n",
    "        \"\"\"\n",
    "    )\n",
    "    \n",
    "    # Fetch SELECT results \n",
    "    rows = cur.fetchall()\n",
    "    \n",
    "    # Get column names from cursor\n",
    "    columns = [desc[0] for desc in cur.description]\n",
    "    \n",
    "    # Create DataFrame\n",
    "    df = pd.DataFrame(rows, columns=columns)\n",
    "    \n",
    "    print(\"Completed dataframe.\")\n",
    "    \n",
    "except Exception as e:\n",
    "    print(f\"Error executing SQL query: {e}\")\n",
    "\n",
    "finally:\n",
    "    # Close cursor\n",
    "    cur.close()\n",
    "    connection.close()"
   ]
  },
  {
   "cell_type": "code",
   "execution_count": 5,
   "id": "6b84e29c-c81b-4b3f-abaa-ff28d10a7640",
   "metadata": {},
   "outputs": [
    {
     "ename": "NameError",
     "evalue": "name 'df' is not defined",
     "output_type": "error",
     "traceback": [
      "\u001b[1;31m---------------------------------------------------------------------------\u001b[0m",
      "\u001b[1;31mNameError\u001b[0m                                 Traceback (most recent call last)",
      "Cell \u001b[1;32mIn[5], line 1\u001b[0m\n\u001b[1;32m----> 1\u001b[0m display(\u001b[43mdf\u001b[49m\u001b[38;5;241m.\u001b[39mhead())\n",
      "\u001b[1;31mNameError\u001b[0m: name 'df' is not defined"
     ]
    }
   ],
   "source": [
    "display(df.head())"
   ]
  },
  {
   "cell_type": "markdown",
   "id": "73a12681-4800-4db0-a318-bed8db7ad69c",
   "metadata": {},
   "source": [
    "## `USCDI`\n",
    "\n",
    "- The column `Has2019` is created to determine if the value is relevant to our questions\n",
    "- `Range` is created to assist in providing the average data value `AvgDataValue` across the range of years, given that some values are obtained for a range greater than 1 year. \n",
    "    - `USCDI_MID` is created within SQL script to ensure `Range` could be calculated.\n",
    "\n",
    "| Column | Description | Data Type | Property |\n",
    "| ------- | ------- | ------- | ------- |\n",
    "| `YearStart`  | Start year of measurements | `NUMBER(4, 0)` | `PRIMARY KEY` |\n",
    "| `YearEnd` | End year of measurements | `NUMBER(4, 0)` | `PRIMARY KEY` |\n",
    "| `LocationDesc` | State within U.S. | `VARCHAR2(50)` | `PRIMARY KEY` |\n",
    "| `Topic` | Topic of interest | `VARCHAR2(30)` | `PRIMARY KEY` |\n",
    "| `Question`  | Question of interest, based on `Topic` | `VARCHAR2(100)` | `PRIMARY KEY` |\n",
    "| `DataValueUnit` | Unit of data value depending on `Topic` and `Question` | `VARCHAR2(20)` | `PRIMARY KEY` |\n",
    "| `DataValueType` | Type of data value (e.g. Crude value, age-adjusted) | `VARCHAR2(20)` | `PRIMARY KEY` |\n",
    "| `DataValue` | Data value, with specific interpretation dependent on its `DataValueType`, `DataValueUnit`, `Topic` and `Question` | `DECIMAL(24, 18)` | N/A |\n",
    "| `StratificationCategory1` | Category to stratify data; includes \"Age\", \"Sex\", \"Race/Ethnicity\" and \"Overall\" | `VARCHAR(10)` | `PRIMARY KEY` |\n",
    "| `Stratification1` | Specific group within `StratificationCategory1` | `VARCHAR(10)` | `PRIMARY KEY` |\n",
    "| `Has2019` | Boolean on whether or not 2019 is in the data | `NUMBER(1,0)` | `NOT NULL` |\n",
    "| `Range` | Number of years between `YearStart` and `YearEnd` | `NUMBER(2,0)` | `NOT NULL` |\n",
    "| `AvgDataValue`  | $\\frac{DataValue}{Range}$ | `DECIMAL(24, 18)` | N/A |"
   ]
  },
  {
   "cell_type": "code",
   "execution_count": null,
   "id": "77586162-80e3-4e6c-a54f-e29b90e405aa",
   "metadata": {},
   "outputs": [],
   "source": [
    "# USCDI\n",
    "dsn = oracledb.makedsn(\"localhost\", 1522, service_name=\"stu\")\n",
    "connection = oracledb.connect(user=f\"ora_{CWL}\", password=f\"a{studentnum}\", dsn=dsn)\n",
    "cur = connection.cursor()\n",
    "\n",
    "try:\n",
    "    # Remove USCDI view only if it exists\n",
    "    cur.execute(\"SELECT COUNT(*) FROM ALL_VIEWS WHERE VIEW_NAME = 'USCDI'\")\n",
    "    view_exists = cur.fetchone()[0]\n",
    "    if view_exists:\n",
    "        cur.execute(\"DROP VIEW USCDI CASCADE CONSTRAINTS\")\n",
    "    \n",
    "    # Create USCDI view\n",
    "    cur.execute(\n",
    "        \"\"\"\n",
    "        CREATE VIEW USCDI AS \n",
    "        SELECT USCDI_MID.\"YearStart\" AS YearStart, \n",
    "            USCDI_MID.\"YearEnd\" AS YearEnd, \n",
    "            USCDI_MID.\"LocationDesc\" AS LocationDesc, \n",
    "            USCDI_MID.\"Topic\" AS Topic, \n",
    "            USCDI_MID.\"Question\" AS Question, \n",
    "            USCDI_MID.\"DataValueUnit\" AS DataValueUnit, \n",
    "            USCDI_MID.\"DataValueType\" AS DataValueType, \n",
    "            USCDI_MID.\"DataValue\" AS DataValue, \n",
    "            USCDI_MID.\"StratificationCategory1\" AS StratificationCategory1, \n",
    "            USCDI_MID.\"Stratification1\" AS Stratification1, \n",
    "            USCDI_MID.\"Has2019\" AS Has2019, \n",
    "            USCDI_MID.\"Range\" AS Range, \n",
    "            (USCDI_MID.\"DataValue\" / USCDI_MID.\"Range\") AS AvgDataValue\n",
    "        FROM (\n",
    "            SELECT cdif1.\"YearStart\", cdif1.\"YearEnd\", cdif1.\"LocationDesc\", cdif1.\"Topic\", cdif1.\"Question\", \n",
    "                   cdif1.\"DataValueUnit\", cdif1.\"DataValueType\", cdif1.\"DataValue\", \n",
    "                   cdif1.\"StratificationCategory1\", cdif1.\"Stratification1\", \n",
    "                   CAST(\n",
    "                       CASE \n",
    "                           WHEN ((cdif1.\"YearStart\" <= 2019) AND (cdif1.\"YearEnd\" >= 2019)) THEN 1\n",
    "                           ELSE 0\n",
    "                       END AS NUMBER(1, 0)\n",
    "                   ) AS \"Has2019\", \n",
    "                   CAST(\n",
    "                       (cdif1.\"YearEnd\" - cdif1.\"YearStart\" + 1) AS NUMBER(2, 0)\n",
    "                   ) AS \"Range\"\n",
    "            FROM USCDI_filter cdif1\n",
    "            WHERE cdif1.\"LocationDesc\" != 'United States'\n",
    "        ) USCDI_MID\n",
    "        \"\"\"\n",
    "    )\n",
    "    cur.execute(\n",
    "        \"\"\"\n",
    "        SELECT * \n",
    "        FROM USCDI\n",
    "        \"\"\"\n",
    "    )\n",
    "    \n",
    "    # Fetch SELECT results \n",
    "    rows2 = cur.fetchall()\n",
    "    \n",
    "    # Get column names from cursor\n",
    "    columns2 = [desc[0] for desc in cur.description]\n",
    "    \n",
    "    # Create DataFrame\n",
    "    df2 = pd.DataFrame(rows2, columns=columns2)\n",
    "    \n",
    "    print(\"Completed dataframe.\")\n",
    "    \n",
    "except Exception as e:\n",
    "    print(f\"Error executing SQL query: {e}\")\n",
    "\n",
    "finally:\n",
    "    # Close cursor and connection\n",
    "    cur.close()\n",
    "    connection.close()"
   ]
  },
  {
   "cell_type": "code",
   "execution_count": null,
   "id": "a6c9447e-bace-440b-9b0c-c27ca18ccaee",
   "metadata": {},
   "outputs": [],
   "source": [
    "display(df2.head())"
   ]
  }
 ],
 "metadata": {
  "kernelspec": {
   "display_name": "Python [conda env:cpsc330] *",
   "language": "python",
   "name": "conda-env-cpsc330-py"
  },
  "language_info": {
   "codemirror_mode": {
    "name": "ipython",
    "version": 3
   },
   "file_extension": ".py",
   "mimetype": "text/x-python",
   "name": "python",
   "nbconvert_exporter": "python",
   "pygments_lexer": "ipython3",
   "version": "3.12.0"
  }
 },
 "nbformat": 4,
 "nbformat_minor": 5
}
